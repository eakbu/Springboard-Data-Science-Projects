{
 "cells": [
  {
   "cell_type": "markdown",
   "metadata": {
    "toc": true
   },
   "source": [
    "<h1>Table of Contents<span class=\"tocSkip\"></span></h1>\n",
    "<div class=\"toc\"><ul class=\"toc-item\"><li><span><a href=\"#Part-I---Exploratory-Data-Analysis¶\" data-toc-modified-id=\"Part-I---Exploratory-Data-Analysis¶-1\">Part I - Exploratory Data Analysis¶</a></span><ul class=\"toc-item\"><li><span><a href=\"#1.1-Packages-to-be-Imported\" data-toc-modified-id=\"1.1-Packages-to-be-Imported-1.1\">1.1 Packages to be Imported</a></span></li></ul></li><li><span><a href=\"#Part-II---Experiment-and-Metrics-Designs\" data-toc-modified-id=\"Part-II---Experiment-and-Metrics-Designs-2\">Part II - Experiment and Metrics Designs</a></span><ul class=\"toc-item\"><li><ul class=\"toc-item\"><li><span><a href=\"#1.-What-would-you-choose-as-the-key-measure-of-success-of-this-experiment-in-encouraging-driver-partners-to-serve-both-cities,-and-why-would-you-choose-this-metric?\" data-toc-modified-id=\"1.-What-would-you-choose-as-the-key-measure-of-success-of-this-experiment-in-encouraging-driver-partners-to-serve-both-cities,-and-why-would-you-choose-this-metric?-2.0.1\">1. What would you choose as the key measure of success of this experiment in encouraging driver partners to serve both cities, and why would you choose this metric?</a></span></li><li><span><a href=\"#2.-Describe-a-practical-experiment-you-would-design-to-compare-the-effectiveness-of-the-proposed-change-in-relation-to-the-key-measure-of-success.-Please-provide-details-on:\" data-toc-modified-id=\"2.-Describe-a-practical-experiment-you-would-design-to-compare-the-effectiveness-of-the-proposed-change-in-relation-to-the-key-measure-of-success.-Please-provide-details-on:-2.0.2\">2. Describe a practical experiment you would design to compare the effectiveness of the proposed change in relation to the key measure of success. Please provide details on:</a></span><ul class=\"toc-item\"><li><span><a href=\"#a.-how-you-will-implement-the-experiment\" data-toc-modified-id=\"a.-how-you-will-implement-the-experiment-2.0.2.1\">a. how you will implement the experiment</a></span></li><li><span><a href=\"#b.-what-statistical-test(s)-you-will-conduct-to-verify-the-significance-of-the-observation\" data-toc-modified-id=\"b.-what-statistical-test(s)-you-will-conduct-to-verify-the-significance-of-the-observation-2.0.2.2\">b. what statistical test(s) you will conduct to verify the significance of the observation</a></span></li><li><span><a href=\"#c.-how-you-would-interpret-the-results-and-provide-recommendations-to-the-city-operations-team-along-with-any-caveats.\" data-toc-modified-id=\"c.-how-you-would-interpret-the-results-and-provide-recommendations-to-the-city-operations-team-along-with-any-caveats.-2.0.2.3\">c. how you would interpret the results and provide recommendations to the city operations team along with any caveats.</a></span></li></ul></li></ul></li></ul></li><li><span><a href=\"#Part-III---Predictive-Modeling\" data-toc-modified-id=\"Part-III---Predictive-Modeling-3\">Part III - Predictive Modeling</a></span><ul class=\"toc-item\"><li><ul class=\"toc-item\"><li><ul class=\"toc-item\"><li><span><a href=\"#Load-and-Inspect-data\" data-toc-modified-id=\"Load-and-Inspect-data-3.0.0.1\">Load and Inspect data</a></span></li><li><span><a href=\"#Data-Wrangling\" data-toc-modified-id=\"Data-Wrangling-3.0.0.2\">Data Wrangling</a></span><ul class=\"toc-item\"><li><ul class=\"toc-item\"><li><span><a href=\"#avg_rating_of_driver\" data-toc-modified-id=\"avg_rating_of_driver-3.0.0.2.0.1\">avg_rating_of_driver</a></span></li><li><span><a href=\"#avg_rating_by_driver\" data-toc-modified-id=\"avg_rating_by_driver-3.0.0.2.0.2\">avg_rating_by_driver</a></span></li><li><span><a href=\"#Phone\" data-toc-modified-id=\"Phone-3.0.0.2.0.3\">Phone</a></span></li><li><span><a href=\"#last_trip_date\" data-toc-modified-id=\"last_trip_date-3.0.0.2.0.4\">last_trip_date</a></span></li></ul></li></ul></li><li><span><a href=\"#EDA\" data-toc-modified-id=\"EDA-3.0.0.3\">EDA</a></span></li></ul></li><li><span><a href=\"#Model-Building\" data-toc-modified-id=\"Model-Building-3.0.1\">Model Building</a></span></li><li><span><a href=\"#Business-Recommendations\" data-toc-modified-id=\"Business-Recommendations-3.0.2\">Business Recommendations</a></span></li></ul></li></ul></li></ul></div>"
   ]
  },
  {
   "cell_type": "markdown",
   "metadata": {},
   "source": [
    "\n",
    "**About the Ultimate Challenge:**\n",
    "\n",
    "Ultimate Technologies Inc. is an American worldwide online transportation network company that has disrupted the taxi and logistics industry and is a prestigious company to work at. This challenge has been adapted from an actual Ultimate Inc. data science challenge.\n",
    "\n",
    "The logins.json file contains (simulated) timestamps of user logins in a particular geographic location."
   ]
  },
  {
   "cell_type": "markdown",
   "metadata": {},
   "source": [
    "# Part I - Exploratory Data Analysis¶\n",
    "Aggregate the login counts based on 15minute time intervals, and visualize and describe the resulting time series of login counts in ways that best characterize the underlying patterns of the demand. Please report/illustrate important features of the demand, such as daily cycles. If there are data quality issues, please report them."
   ]
  },
  {
   "cell_type": "markdown",
   "metadata": {},
   "source": [
    "## 1.1 Packages to be Imported"
   ]
  },
  {
   "cell_type": "code",
   "execution_count": 1,
   "metadata": {},
   "outputs": [],
   "source": [
    "# import the necessary libraries\n",
    "import numpy as np\n",
    "import pandas as pd\n",
    "import matplotlib.pyplot as plt\n",
    "import seaborn as sns\n",
    "sns.set_style('white')\n",
    "\n",
    "import calendar"
   ]
  },
  {
   "cell_type": "code",
   "execution_count": 2,
   "metadata": {},
   "outputs": [
    {
     "data": {
      "text/html": [
       "<div>\n",
       "<style scoped>\n",
       "    .dataframe tbody tr th:only-of-type {\n",
       "        vertical-align: middle;\n",
       "    }\n",
       "\n",
       "    .dataframe tbody tr th {\n",
       "        vertical-align: top;\n",
       "    }\n",
       "\n",
       "    .dataframe thead th {\n",
       "        text-align: right;\n",
       "    }\n",
       "</style>\n",
       "<table border=\"1\" class=\"dataframe\">\n",
       "  <thead>\n",
       "    <tr style=\"text-align: right;\">\n",
       "      <th></th>\n",
       "      <th>login_time</th>\n",
       "    </tr>\n",
       "  </thead>\n",
       "  <tbody>\n",
       "    <tr>\n",
       "      <td>0</td>\n",
       "      <td>1970-01-01 20:13:18</td>\n",
       "    </tr>\n",
       "    <tr>\n",
       "      <td>1</td>\n",
       "      <td>1970-01-01 20:16:10</td>\n",
       "    </tr>\n",
       "    <tr>\n",
       "      <td>2</td>\n",
       "      <td>1970-01-01 20:16:37</td>\n",
       "    </tr>\n",
       "    <tr>\n",
       "      <td>3</td>\n",
       "      <td>1970-01-01 20:16:36</td>\n",
       "    </tr>\n",
       "    <tr>\n",
       "      <td>4</td>\n",
       "      <td>1970-01-01 20:26:21</td>\n",
       "    </tr>\n",
       "  </tbody>\n",
       "</table>\n",
       "</div>"
      ],
      "text/plain": [
       "           login_time\n",
       "0 1970-01-01 20:13:18\n",
       "1 1970-01-01 20:16:10\n",
       "2 1970-01-01 20:16:37\n",
       "3 1970-01-01 20:16:36\n",
       "4 1970-01-01 20:26:21"
      ]
     },
     "execution_count": 2,
     "metadata": {},
     "output_type": "execute_result"
    }
   ],
   "source": [
    "# Load the json dataset to a dataframe\n",
    "logins = pd.read_json('data/logins.json')\n",
    "\n",
    "# Display tha head of dataframe\n",
    "logins.head()"
   ]
  },
  {
   "cell_type": "code",
   "execution_count": 3,
   "metadata": {},
   "outputs": [
    {
     "data": {
      "text/plain": [
       "(93142, 1)"
      ]
     },
     "execution_count": 3,
     "metadata": {},
     "output_type": "execute_result"
    }
   ],
   "source": [
    "# Check shape of data \n",
    "logins.shape"
   ]
  },
  {
   "cell_type": "code",
   "execution_count": 4,
   "metadata": {},
   "outputs": [
    {
     "name": "stdout",
     "output_type": "stream",
     "text": [
      "<class 'pandas.core.frame.DataFrame'>\n",
      "RangeIndex: 93142 entries, 0 to 93141\n",
      "Data columns (total 1 columns):\n",
      "login_time    93142 non-null datetime64[ns]\n",
      "dtypes: datetime64[ns](1)\n",
      "memory usage: 727.8 KB\n"
     ]
    }
   ],
   "source": [
    "# Print the info of data\n",
    "logins.info()"
   ]
  },
  {
   "cell_type": "markdown",
   "metadata": {},
   "source": [
    ">As the output above clearly shows, the dataset has no missing values and the login_time feature has the datetime data type."
   ]
  },
  {
   "cell_type": "code",
   "execution_count": 5,
   "metadata": {},
   "outputs": [
    {
     "data": {
      "text/html": [
       "<div>\n",
       "<style scoped>\n",
       "    .dataframe tbody tr th:only-of-type {\n",
       "        vertical-align: middle;\n",
       "    }\n",
       "\n",
       "    .dataframe tbody tr th {\n",
       "        vertical-align: top;\n",
       "    }\n",
       "\n",
       "    .dataframe thead th {\n",
       "        text-align: right;\n",
       "    }\n",
       "</style>\n",
       "<table border=\"1\" class=\"dataframe\">\n",
       "  <thead>\n",
       "    <tr style=\"text-align: right;\">\n",
       "      <th></th>\n",
       "      <th>login_time</th>\n",
       "    </tr>\n",
       "  </thead>\n",
       "  <tbody>\n",
       "    <tr>\n",
       "      <td>count</td>\n",
       "      <td>93142</td>\n",
       "    </tr>\n",
       "    <tr>\n",
       "      <td>unique</td>\n",
       "      <td>92265</td>\n",
       "    </tr>\n",
       "    <tr>\n",
       "      <td>top</td>\n",
       "      <td>1970-02-12 11:16:53</td>\n",
       "    </tr>\n",
       "    <tr>\n",
       "      <td>freq</td>\n",
       "      <td>3</td>\n",
       "    </tr>\n",
       "    <tr>\n",
       "      <td>first</td>\n",
       "      <td>1970-01-01 20:12:16</td>\n",
       "    </tr>\n",
       "    <tr>\n",
       "      <td>last</td>\n",
       "      <td>1970-04-13 18:57:38</td>\n",
       "    </tr>\n",
       "  </tbody>\n",
       "</table>\n",
       "</div>"
      ],
      "text/plain": [
       "                 login_time\n",
       "count                 93142\n",
       "unique                92265\n",
       "top     1970-02-12 11:16:53\n",
       "freq                      3\n",
       "first   1970-01-01 20:12:16\n",
       "last    1970-04-13 18:57:38"
      ]
     },
     "execution_count": 5,
     "metadata": {},
     "output_type": "execute_result"
    }
   ],
   "source": [
    "# Check for the simple statistics\n",
    "logins.describe()"
   ]
  },
  {
   "cell_type": "markdown",
   "metadata": {},
   "source": [
    ">Whereas the logins dataset has a total of 93,142 entries, some of the data were duplicated (the unique number of entries is equal to 92,265). So far, with the information available to us, it is difficult to say is if those duplicated entries are valid or not. But for the purpose of this data science challenge, all entries will be accepted as valid entries."
   ]
  },
  {
   "cell_type": "code",
   "execution_count": 6,
   "metadata": {},
   "outputs": [],
   "source": [
    "# Set the 'login_time' feature as the index\n",
    "logins=logins.set_index('login_time')\n",
    "\n",
    "# Add a new column called 'count' to aggregate the login counts\n",
    "logins['count']=1\n",
    "\n",
    "# Aggregate the login counts based on 15-minute time intervals\n",
    "logins=logins.resample('15T').sum()"
   ]
  },
  {
   "cell_type": "code",
   "execution_count": 7,
   "metadata": {},
   "outputs": [
    {
     "data": {
      "text/html": [
       "<div>\n",
       "<style scoped>\n",
       "    .dataframe tbody tr th:only-of-type {\n",
       "        vertical-align: middle;\n",
       "    }\n",
       "\n",
       "    .dataframe tbody tr th {\n",
       "        vertical-align: top;\n",
       "    }\n",
       "\n",
       "    .dataframe thead th {\n",
       "        text-align: right;\n",
       "    }\n",
       "</style>\n",
       "<table border=\"1\" class=\"dataframe\">\n",
       "  <thead>\n",
       "    <tr style=\"text-align: right;\">\n",
       "      <th></th>\n",
       "      <th>count</th>\n",
       "    </tr>\n",
       "    <tr>\n",
       "      <th>login_time</th>\n",
       "      <th></th>\n",
       "    </tr>\n",
       "  </thead>\n",
       "  <tbody>\n",
       "    <tr>\n",
       "      <td>1970-01-01 20:00:00</td>\n",
       "      <td>2</td>\n",
       "    </tr>\n",
       "    <tr>\n",
       "      <td>1970-01-01 20:15:00</td>\n",
       "      <td>6</td>\n",
       "    </tr>\n",
       "    <tr>\n",
       "      <td>1970-01-01 20:30:00</td>\n",
       "      <td>9</td>\n",
       "    </tr>\n",
       "    <tr>\n",
       "      <td>1970-01-01 20:45:00</td>\n",
       "      <td>7</td>\n",
       "    </tr>\n",
       "    <tr>\n",
       "      <td>1970-01-01 21:00:00</td>\n",
       "      <td>1</td>\n",
       "    </tr>\n",
       "  </tbody>\n",
       "</table>\n",
       "</div>"
      ],
      "text/plain": [
       "                     count\n",
       "login_time                \n",
       "1970-01-01 20:00:00      2\n",
       "1970-01-01 20:15:00      6\n",
       "1970-01-01 20:30:00      9\n",
       "1970-01-01 20:45:00      7\n",
       "1970-01-01 21:00:00      1"
      ]
     },
     "execution_count": 7,
     "metadata": {},
     "output_type": "execute_result"
    }
   ],
   "source": [
    "logins.head()"
   ]
  },
  {
   "cell_type": "code",
   "execution_count": 8,
   "metadata": {},
   "outputs": [
    {
     "data": {
      "image/png": "[encoded data removed]",
      "text/plain": [
       "<Figure size 864x504 with 1 Axes>"
      ]
     },
     "metadata": {
      "needs_background": "light"
     },
     "output_type": "display_data"
    }
   ],
   "source": [
    "logins.plot(kind='line',figsize=(12,7))\n",
    "plt.show()"
   ]
  },
  {
   "cell_type": "markdown",
   "metadata": {},
   "source": [
    ">The line plot shows that the login counts seem to be roughly periodic and the average value seem to increase over time. In the following section, we will generate more plots to develop better insight into the periodicity of the data.\n",
    "\n"
   ]
  },
  {
   "cell_type": "code",
   "execution_count": 9,
   "metadata": {},
   "outputs": [],
   "source": [
    "# List the name of days and months to be used in the subsquent plotting\n",
    "days   = list (calendar.day_abbr)\n",
    "months = list (calendar.month_abbr)"
   ]
  },
  {
   "cell_type": "code",
   "execution_count": 10,
   "metadata": {},
   "outputs": [],
   "source": [
    "# Add a new column and convert it to a datetime object\n",
    "logins['timestamp'] = pd.to_datetime(logins.index)"
   ]
  },
  {
   "cell_type": "code",
   "execution_count": 11,
   "metadata": {},
   "outputs": [],
   "source": [
    "# extract time features from the datetime index\n",
    "\n",
    "logins['month'] = logins['timestamp'].apply(lambda x : months[x.month])\n",
    "logins['day'] = logins['timestamp'].apply(lambda x: days[x.weekday()])\n",
    "logins['hour'] = logins['timestamp'].apply(lambda x: x.hour)"
   ]
  },
  {
   "cell_type": "code",
   "execution_count": 12,
   "metadata": {},
   "outputs": [
    {
     "data": {
      "text/html": [
       "<div>\n",
       "<style scoped>\n",
       "    .dataframe tbody tr th:only-of-type {\n",
       "        vertical-align: middle;\n",
       "    }\n",
       "\n",
       "    .dataframe tbody tr th {\n",
       "        vertical-align: top;\n",
       "    }\n",
       "\n",
       "    .dataframe thead th {\n",
       "        text-align: right;\n",
       "    }\n",
       "</style>\n",
       "<table border=\"1\" class=\"dataframe\">\n",
       "  <thead>\n",
       "    <tr style=\"text-align: right;\">\n",
       "      <th></th>\n",
       "      <th>count</th>\n",
       "      <th>timestamp</th>\n",
       "      <th>month</th>\n",
       "      <th>day</th>\n",
       "      <th>hour</th>\n",
       "    </tr>\n",
       "    <tr>\n",
       "      <th>login_time</th>\n",
       "      <th></th>\n",
       "      <th></th>\n",
       "      <th></th>\n",
       "      <th></th>\n",
       "      <th></th>\n",
       "    </tr>\n",
       "  </thead>\n",
       "  <tbody>\n",
       "    <tr>\n",
       "      <td>1970-02-22 05:30:00</td>\n",
       "      <td>18</td>\n",
       "      <td>1970-02-22 05:30:00</td>\n",
       "      <td>Feb</td>\n",
       "      <td>Sun</td>\n",
       "      <td>5</td>\n",
       "    </tr>\n",
       "    <tr>\n",
       "      <td>1970-01-22 13:30:00</td>\n",
       "      <td>9</td>\n",
       "      <td>1970-01-22 13:30:00</td>\n",
       "      <td>Jan</td>\n",
       "      <td>Thu</td>\n",
       "      <td>13</td>\n",
       "    </tr>\n",
       "    <tr>\n",
       "      <td>1970-03-11 13:00:00</td>\n",
       "      <td>9</td>\n",
       "      <td>1970-03-11 13:00:00</td>\n",
       "      <td>Mar</td>\n",
       "      <td>Wed</td>\n",
       "      <td>13</td>\n",
       "    </tr>\n",
       "    <tr>\n",
       "      <td>1970-04-08 18:00:00</td>\n",
       "      <td>1</td>\n",
       "      <td>1970-04-08 18:00:00</td>\n",
       "      <td>Apr</td>\n",
       "      <td>Wed</td>\n",
       "      <td>18</td>\n",
       "    </tr>\n",
       "    <tr>\n",
       "      <td>1970-02-13 15:00:00</td>\n",
       "      <td>4</td>\n",
       "      <td>1970-02-13 15:00:00</td>\n",
       "      <td>Feb</td>\n",
       "      <td>Fri</td>\n",
       "      <td>15</td>\n",
       "    </tr>\n",
       "  </tbody>\n",
       "</table>\n",
       "</div>"
      ],
      "text/plain": [
       "                     count           timestamp month  day  hour\n",
       "login_time                                                     \n",
       "1970-02-22 05:30:00     18 1970-02-22 05:30:00   Feb  Sun     5\n",
       "1970-01-22 13:30:00      9 1970-01-22 13:30:00   Jan  Thu    13\n",
       "1970-03-11 13:00:00      9 1970-03-11 13:00:00   Mar  Wed    13\n",
       "1970-04-08 18:00:00      1 1970-04-08 18:00:00   Apr  Wed    18\n",
       "1970-02-13 15:00:00      4 1970-02-13 15:00:00   Feb  Fri    15"
      ]
     },
     "execution_count": 12,
     "metadata": {},
     "output_type": "execute_result"
    }
   ],
   "source": [
    "logins.sample(5)"
   ]
  },
  {
   "cell_type": "code",
   "execution_count": 13,
   "metadata": {},
   "outputs": [
    {
     "data": {
      "image/png": "[encoded data removed]",
      "text/plain": [
       "<Figure size 432x288 with 1 Axes>"
      ]
     },
     "metadata": {
      "needs_background": "light"
     },
     "output_type": "display_data"
    }
   ],
   "source": [
    "# Group the 'count' feature by the 'day' feature and plot it\n",
    "day_counts = logins.groupby('day')['count'].sum()\n",
    "\n",
    "sns.barplot(x=day_counts.index,y=day_counts,order=days)\n",
    "plt.show()"
   ]
  },
  {
   "cell_type": "markdown",
   "metadata": {},
   "source": [
    ">The graph above shows that most of the logins are happening on **Satudays** and followed by **Sundays**, whereas the least activity is happening on **Mondays**. Overall, the number of logins tend to increase over time during a week from Monday to Saturday."
   ]
  },
  {
   "cell_type": "code",
   "execution_count": 14,
   "metadata": {},
   "outputs": [
    {
     "data": {
      "text/plain": [
       "<matplotlib.axes._subplots.AxesSubplot at 0x7febf39f71d0>"
      ]
     },
     "execution_count": 14,
     "metadata": {},
     "output_type": "execute_result"
    },
    {
     "data": {
      "image/png": "[encoded data removed]",
      "text/plain": [
       "<Figure size 432x288 with 1 Axes>"
      ]
     },
     "metadata": {
      "needs_background": "light"
     },
     "output_type": "display_data"
    }
   ],
   "source": [
    "# Group the 'count' feature by the 'month' feature and plot it\n",
    "\n",
    "month_counts =  logins.groupby('month')['count'].sum()\n",
    "\n",
    "sns.barplot(x=month_counts.index,y=month_counts,order=['Jan', 'Feb', 'Mar', 'Apr'])"
   ]
  },
  {
   "cell_type": "markdown",
   "metadata": {},
   "source": [
    "Again, as the monthly login data confirms, the number of logins seem to increase over the months. It should also be noted here that the data for April were limited to 13 days. Considering the increase over time, we can expect another increase in April as well."
   ]
  },
  {
   "cell_type": "code",
   "execution_count": 15,
   "metadata": {},
   "outputs": [
    {
     "data": {
      "image/png": "[encoded data removed]",
      "text/plain": [
       "<Figure size 864x432 with 1 Axes>"
      ]
     },
     "metadata": {
      "needs_background": "light"
     },
     "output_type": "display_data"
    }
   ],
   "source": [
    "# group the 'count' feature by the 'hour' feature and plot it\n",
    "hour_counts = logins.groupby('hour')['count'].sum()\n",
    "plt.figure(figsize=(12,6))\n",
    "sns.pointplot(x=hour_counts.index, y=hour_counts)\n",
    "plt.show()"
   ]
  },
  {
   "cell_type": "markdown",
   "metadata": {},
   "source": [
    "This graph here was produced to display the number of logins in every hour of a day. The daily pattern suggests that the login counts at 15-min intervals sees the lowest in the morning around 6:00 a.m. - 9:00 a.m. and rises up around noon 11:00 a.m. - 12:00 p.m. (possible launch time). It gradually declines until 5:00 p.m. and rises back again in the late evening 10:00 p.m. - 2:00 a.m."
   ]
  },
  {
   "cell_type": "markdown",
   "metadata": {},
   "source": [
    "# Part II - Experiment and Metrics Designs\n",
    "\n",
    "The neighboring cities of Gotham and Metropolis have complementary circadian rhythms: on weekdays, Ultimate Gotham is most active at night, and Ultimate Metropolis is most active during the day. On weekends, there is reasonable activity in both cities.\n",
    "\n",
    "However, a toll bridge, with a two way toll, between the two cities causes driver partners to tend to be exclusive to each city. The Ultimate managers of city operations for the two cities have proposed an experiment to encourage driver partners to be available in both cities, by reimbursing all toll costs.\n",
    "\n"
   ]
  },
  {
   "cell_type": "markdown",
   "metadata": {},
   "source": [
    "### 1. What would you choose as the key measure of success of this experiment in encouraging driver partners to serve both cities, and why would you choose this metric?"
   ]
  },
  {
   "cell_type": "markdown",
   "metadata": {},
   "source": [
    "\n",
    "\n",
    "The key measure of success of this experiment can be a metric that indicates the percentage of time drivers, irrespective of which city they belong to, spend in either city. Since the two neighboring cities have a complementary circadian rhythms, we would expect that the average amount of time a driver spend in either city should be ideally close to equal in a perfectly succesful experiment: 50% of the time in Gotham and 50% of the time in Metropolis. If the driver spend more time in either of the cities, it means that the experiment is less successful or not sucessful at all depending upon the expectations from this experiment. Basically, I propose the ratio of time spend in the cities of Gotham and Metropolis as the success metric where the ratio of 1:1 means that the experiment is successful."
   ]
  },
  {
   "cell_type": "markdown",
   "metadata": {},
   "source": [
    "###  2. Describe a practical experiment you would design to compare the effectiveness of the proposed change in relation to the key measure of success. Please provide details on:"
   ]
  },
  {
   "cell_type": "markdown",
   "metadata": {},
   "source": [
    "#### a. how you will implement the experiment\n",
    "\n",
    "I would implement the following steps as part of this experiment to see if the proposed changes on toll costs have affected the behavior of the drivers:\n",
    "\n",
    "First, I would need to find out the data for driver partners of the cities of Gotham and Metropolis.\n",
    "For each group of drivers, I would randomly split the group in half (the control and experiment group).\n",
    "As the drivers in experiment group pass the toll-bridge, I would provide them the reimburserment of all toll costs.\n",
    "Lastly, I would compare the the control and experiment groups who were paid for toll costs to see if there is a statistically significant difference on the behaviors of drivers between the groups.\n"
   ]
  },
  {
   "cell_type": "markdown",
   "metadata": {},
   "source": [
    "#### b. what statistical test(s) you will conduct to verify the significance of the observation\n",
    "\n",
    "I would conduct an A/B test to verify the significance of the observation after I randomly divide each group of drivers into half. The A/B test would allow us to compare the control and experiment groups where the toll reimbursement works as the variable between the groups. After I collect enough data, I would perform a hypothesis testing and compute a two-sample t statistic to determine the significance of the observation. If the null hypothesis holds, it implies that the experiment has been a failure. Otherwise, it implies the toll reimbursement experiment is a success."
   ]
  },
  {
   "cell_type": "markdown",
   "metadata": {},
   "source": [
    "#### c. how you would interpret the results and provide recommendations to the city operations team along with any caveats. \n",
    "\n",
    "Again, based on the p-value obtained from the above t-test for each group, if we reject the null hypothesis, I would recommend the Ultimate managers of city operation to continue implementing the toll reimbursement to encourage drivers to be available in both cities. if we fail to reject the null hypothesis, I would suggest that they should stop implementing the experiment and develop other solutions.\n",
    "\n"
   ]
  },
  {
   "cell_type": "markdown",
   "metadata": {},
   "source": [
    "# Part III - Predictive Modeling\n",
    "***\n",
    "Ultimate is interested in predicting rider retention. To help explore this question, we have provided a sample dataset of a cohort of users who signed up for an Ultimate account in January 2014. The data was pulled several months later; we consider a user retained if they were “active” (i.e. took a trip) in the preceding 30 days.\n",
    "\n",
    "We would like you to use this data set to help understand what factors are the best predictors for retention, and offer suggestions to operationalize those insights to help Ultimate.\n",
    "\n",
    "__The data is in the attached file ultimate_data_challenge.json. See below for a detailed description of the dataset. Please include any code you wrote for the analysis and delete the dataset when you have finished with the challenge.__\n",
    "\n",
    "1. Perform any cleaning, exploratory analysis, and/or visualizations to use the provided data for this analysis (a few sentences/plots describing your approach will suffice). What fraction of the observed users were retained?\n",
    "2. Build a predictive model to help Ultimate determine whether or not a user will be active in their 6th month on the system. Discuss why you chose your approach, what alternatives you considered, and any concerns you have. How valid is your model? Include any key indicators of model performance.\n",
    "3. Briefly discuss how Ultimate might leverage the insights gained from the model to improve its longterm rider retention (again, a few sentences will suffice)."
   ]
  },
  {
   "cell_type": "markdown",
   "metadata": {},
   "source": [
    "#### Load and Inspect data"
   ]
  },
  {
   "cell_type": "code",
   "execution_count": 16,
   "metadata": {},
   "outputs": [
    {
     "name": "stdout",
     "output_type": "stream",
     "text": [
      "             city  trips_in_first_30_days signup_date  avg_rating_of_driver  \\\n",
      "0  King's Landing                       4  2014-01-25                   4.7   \n",
      "1         Astapor                       0  2014-01-29                   5.0   \n",
      "2         Astapor                       3  2014-01-06                   4.3   \n",
      "3  King's Landing                       9  2014-01-10                   4.6   \n",
      "4      Winterfell                      14  2014-01-27                   4.4   \n",
      "\n",
      "   avg_surge last_trip_date    phone  surge_pct  ultimate_black_user  \\\n",
      "0       1.10     2014-06-17   iPhone       15.4                 True   \n",
      "1       1.00     2014-05-05  Android        0.0                False   \n",
      "2       1.00     2014-01-07   iPhone        0.0                False   \n",
      "3       1.14     2014-06-29   iPhone       20.0                 True   \n",
      "4       1.19     2014-03-15  Android       11.8                False   \n",
      "\n",
      "   weekday_pct  avg_dist  avg_rating_by_driver  \n",
      "0         46.2      3.67                   5.0  \n",
      "1         50.0      8.26                   5.0  \n",
      "2        100.0      0.77                   5.0  \n",
      "3         80.0      2.36                   4.9  \n",
      "4         82.4      3.13                   4.9  \n"
     ]
    }
   ],
   "source": [
    "# import packages\n",
    "import json\n",
    "\n",
    "# Read json data into dataframe\n",
    "\n",
    "with open ('data/ultimate_data_challenge.json') as ud :\n",
    "    ultimate = json.load(ud)\n",
    "    \n",
    "# Convert to dataframe\n",
    "ultimate = pd.DataFrame(ultimate)\n",
    "\n",
    "\n",
    "# Print head of ultimate data\n",
    "\n",
    "print(ultimate.head())"
   ]
  },
  {
   "cell_type": "code",
   "execution_count": 17,
   "metadata": {},
   "outputs": [
    {
     "name": "stdout",
     "output_type": "stream",
     "text": [
      "<class 'pandas.core.frame.DataFrame'>\n",
      "RangeIndex: 50000 entries, 0 to 49999\n",
      "Data columns (total 12 columns):\n",
      "city                      50000 non-null object\n",
      "trips_in_first_30_days    50000 non-null int64\n",
      "signup_date               50000 non-null object\n",
      "avg_rating_of_driver      41878 non-null float64\n",
      "avg_surge                 50000 non-null float64\n",
      "last_trip_date            50000 non-null object\n",
      "phone                     49604 non-null object\n",
      "surge_pct                 50000 non-null float64\n",
      "ultimate_black_user       50000 non-null bool\n",
      "weekday_pct               50000 non-null float64\n",
      "avg_dist                  50000 non-null float64\n",
      "avg_rating_by_driver      49799 non-null float64\n",
      "dtypes: bool(1), float64(6), int64(1), object(4)\n",
      "memory usage: 4.2+ MB\n"
     ]
    }
   ],
   "source": [
    "ultimate.info()"
   ]
  },
  {
   "cell_type": "markdown",
   "metadata": {},
   "source": [
    "There are missing values in 'avg_rating_of_driver','phone ',and 'avg_rating_by_driver ' columns. they need to be managing."
   ]
  },
  {
   "cell_type": "code",
   "execution_count": 18,
   "metadata": {
    "scrolled": true
   },
   "outputs": [
    {
     "data": {
      "text/html": [
       "<div>\n",
       "<style scoped>\n",
       "    .dataframe tbody tr th:only-of-type {\n",
       "        vertical-align: middle;\n",
       "    }\n",
       "\n",
       "    .dataframe tbody tr th {\n",
       "        vertical-align: top;\n",
       "    }\n",
       "\n",
       "    .dataframe thead th {\n",
       "        text-align: right;\n",
       "    }\n",
       "</style>\n",
       "<table border=\"1\" class=\"dataframe\">\n",
       "  <thead>\n",
       "    <tr style=\"text-align: right;\">\n",
       "      <th></th>\n",
       "      <th>trips_in_first_30_days</th>\n",
       "      <th>avg_rating_of_driver</th>\n",
       "      <th>avg_surge</th>\n",
       "      <th>surge_pct</th>\n",
       "      <th>weekday_pct</th>\n",
       "      <th>avg_dist</th>\n",
       "      <th>avg_rating_by_driver</th>\n",
       "    </tr>\n",
       "  </thead>\n",
       "  <tbody>\n",
       "    <tr>\n",
       "      <td>count</td>\n",
       "      <td>50000.000000</td>\n",
       "      <td>41878.000000</td>\n",
       "      <td>50000.000000</td>\n",
       "      <td>50000.000000</td>\n",
       "      <td>50000.000000</td>\n",
       "      <td>50000.000000</td>\n",
       "      <td>49799.000000</td>\n",
       "    </tr>\n",
       "    <tr>\n",
       "      <td>mean</td>\n",
       "      <td>2.278200</td>\n",
       "      <td>4.601559</td>\n",
       "      <td>1.074764</td>\n",
       "      <td>8.849536</td>\n",
       "      <td>60.926084</td>\n",
       "      <td>5.796827</td>\n",
       "      <td>4.778158</td>\n",
       "    </tr>\n",
       "    <tr>\n",
       "      <td>std</td>\n",
       "      <td>3.792684</td>\n",
       "      <td>0.617338</td>\n",
       "      <td>0.222336</td>\n",
       "      <td>19.958811</td>\n",
       "      <td>37.081503</td>\n",
       "      <td>5.707357</td>\n",
       "      <td>0.446652</td>\n",
       "    </tr>\n",
       "    <tr>\n",
       "      <td>min</td>\n",
       "      <td>0.000000</td>\n",
       "      <td>1.000000</td>\n",
       "      <td>1.000000</td>\n",
       "      <td>0.000000</td>\n",
       "      <td>0.000000</td>\n",
       "      <td>0.000000</td>\n",
       "      <td>1.000000</td>\n",
       "    </tr>\n",
       "    <tr>\n",
       "      <td>25%</td>\n",
       "      <td>0.000000</td>\n",
       "      <td>4.300000</td>\n",
       "      <td>1.000000</td>\n",
       "      <td>0.000000</td>\n",
       "      <td>33.300000</td>\n",
       "      <td>2.420000</td>\n",
       "      <td>4.700000</td>\n",
       "    </tr>\n",
       "    <tr>\n",
       "      <td>50%</td>\n",
       "      <td>1.000000</td>\n",
       "      <td>4.900000</td>\n",
       "      <td>1.000000</td>\n",
       "      <td>0.000000</td>\n",
       "      <td>66.700000</td>\n",
       "      <td>3.880000</td>\n",
       "      <td>5.000000</td>\n",
       "    </tr>\n",
       "    <tr>\n",
       "      <td>75%</td>\n",
       "      <td>3.000000</td>\n",
       "      <td>5.000000</td>\n",
       "      <td>1.050000</td>\n",
       "      <td>8.600000</td>\n",
       "      <td>100.000000</td>\n",
       "      <td>6.940000</td>\n",
       "      <td>5.000000</td>\n",
       "    </tr>\n",
       "    <tr>\n",
       "      <td>max</td>\n",
       "      <td>125.000000</td>\n",
       "      <td>5.000000</td>\n",
       "      <td>8.000000</td>\n",
       "      <td>100.000000</td>\n",
       "      <td>100.000000</td>\n",
       "      <td>160.960000</td>\n",
       "      <td>5.000000</td>\n",
       "    </tr>\n",
       "  </tbody>\n",
       "</table>\n",
       "</div>"
      ],
      "text/plain": [
       "       trips_in_first_30_days  avg_rating_of_driver     avg_surge  \\\n",
       "count            50000.000000          41878.000000  50000.000000   \n",
       "mean                 2.278200              4.601559      1.074764   \n",
       "std                  3.792684              0.617338      0.222336   \n",
       "min                  0.000000              1.000000      1.000000   \n",
       "25%                  0.000000              4.300000      1.000000   \n",
       "50%                  1.000000              4.900000      1.000000   \n",
       "75%                  3.000000              5.000000      1.050000   \n",
       "max                125.000000              5.000000      8.000000   \n",
       "\n",
       "          surge_pct   weekday_pct      avg_dist  avg_rating_by_driver  \n",
       "count  50000.000000  50000.000000  50000.000000          49799.000000  \n",
       "mean       8.849536     60.926084      5.796827              4.778158  \n",
       "std       19.958811     37.081503      5.707357              0.446652  \n",
       "min        0.000000      0.000000      0.000000              1.000000  \n",
       "25%        0.000000     33.300000      2.420000              4.700000  \n",
       "50%        0.000000     66.700000      3.880000              5.000000  \n",
       "75%        8.600000    100.000000      6.940000              5.000000  \n",
       "max      100.000000    100.000000    160.960000              5.000000  "
      ]
     },
     "execution_count": 18,
     "metadata": {},
     "output_type": "execute_result"
    }
   ],
   "source": [
    "ultimate.describe()"
   ]
  },
  {
   "cell_type": "markdown",
   "metadata": {},
   "source": [
    "Here, the descriptive stistics of the all features are displayed. The maximum values in some columns seem to be much larger than the mean, but based on other informations and plots, no apparent outliers are identified."
   ]
  },
  {
   "cell_type": "markdown",
   "metadata": {},
   "source": [
    "#### Data Wrangling"
   ]
  },
  {
   "cell_type": "markdown",
   "metadata": {},
   "source": [
    " I will impute the three columns given above with the missing values. To do so, I need some information for each column such as mean or median to be used for imputation."
   ]
  },
  {
   "cell_type": "markdown",
   "metadata": {},
   "source": [
    "###### avg_rating_of_driver"
   ]
  },
  {
   "cell_type": "code",
   "execution_count": 19,
   "metadata": {},
   "outputs": [
    {
     "data": {
      "image/png": "[encoded data removed]",
      "text/plain": [
       "<Figure size 432x288 with 1 Axes>"
      ]
     },
     "metadata": {
      "needs_background": "light"
     },
     "output_type": "display_data"
    }
   ],
   "source": [
    "sns.distplot(ultimate[ultimate['avg_rating_of_driver'].notnull()]['avg_rating_of_driver'])\n",
    "plt.show()"
   ]
  },
  {
   "cell_type": "code",
   "execution_count": 20,
   "metadata": {},
   "outputs": [],
   "source": [
    "# Fill the missing values with themean of 'avg_rating_of_driver'\n",
    "ultimate['avg_rating_of_driver'] = ultimate['avg_rating_of_driver'].fillna(ultimate['avg_rating_of_driver'].mean())"
   ]
  },
  {
   "cell_type": "markdown",
   "metadata": {},
   "source": [
    "###### avg_rating_by_driver"
   ]
  },
  {
   "cell_type": "code",
   "execution_count": 21,
   "metadata": {
    "scrolled": false
   },
   "outputs": [
    {
     "data": {
      "text/plain": [
       "<matplotlib.axes._subplots.AxesSubplot at 0x7febf7f43890>"
      ]
     },
     "execution_count": 21,
     "metadata": {},
     "output_type": "execute_result"
    },
    {
     "data": {
      "image/png": "[encoded data removed]",
      "text/plain": [
       "<Figure size 432x288 with 1 Axes>"
      ]
     },
     "metadata": {
      "needs_background": "light"
     },
     "output_type": "display_data"
    }
   ],
   "source": [
    "sns.distplot(ultimate[ultimate['avg_rating_by_driver'].notnull()]['avg_rating_by_driver'])"
   ]
  },
  {
   "cell_type": "code",
   "execution_count": 22,
   "metadata": {},
   "outputs": [],
   "source": [
    "# Fill the missing values with themean of 'avg_rating_of_driver'\n",
    "ultimate['avg_rating_by_driver'] = ultimate['avg_rating_by_driver'].fillna(ultimate['avg_rating_by_driver'].mean())"
   ]
  },
  {
   "cell_type": "markdown",
   "metadata": {},
   "source": [
    "I filled missing values with mean instead of drop, because I think it is more useful."
   ]
  },
  {
   "cell_type": "markdown",
   "metadata": {},
   "source": [
    "###### Phone"
   ]
  },
  {
   "cell_type": "code",
   "execution_count": 23,
   "metadata": {},
   "outputs": [
    {
     "data": {
      "text/plain": [
       "iPhone     34582\n",
       "Android    15022\n",
       "Name: phone, dtype: int64"
      ]
     },
     "execution_count": 23,
     "metadata": {},
     "output_type": "execute_result"
    }
   ],
   "source": [
    "ultimate.phone.value_counts()"
   ]
  },
  {
   "cell_type": "markdown",
   "metadata": {},
   "source": [
    "Iphone seems to be used  more than Android. so we can impute missing values with Iphone or we could just leave as it is"
   ]
  },
  {
   "cell_type": "code",
   "execution_count": 24,
   "metadata": {},
   "outputs": [],
   "source": [
    "# Fill the missing values of the 'phone' column with the value of 'Iphone'\n",
    "\n",
    "ultimate['phone'] = ultimate['phone'].fillna('Iphone')"
   ]
  },
  {
   "cell_type": "markdown",
   "metadata": {},
   "source": [
    "###### last_trip_date"
   ]
  },
  {
   "cell_type": "code",
   "execution_count": 25,
   "metadata": {},
   "outputs": [],
   "source": [
    "# Convert date-related columns to datatime format\n",
    "ultimate['last_trip_date'] = pd.to_datetime(ultimate['last_trip_date'],format='%Y-%m-%d')\n",
    "ultimate['signup_date']    = pd.to_datetime(ultimate['signup_date'],   format='%Y-%m-%d')\n"
   ]
  },
  {
   "cell_type": "markdown",
   "metadata": {},
   "source": [
    "To be able to perform rider retention prediction, I need to operationalize 'rider retention'."
   ]
  },
  {
   "cell_type": "code",
   "execution_count": 26,
   "metadata": {},
   "outputs": [
    {
     "data": {
      "text/plain": [
       "45357   2014-07-01\n",
       "22735   2014-07-01\n",
       "14473   2014-07-01\n",
       "38651   2014-07-01\n",
       "45126   2014-07-01\n",
       "14419   2014-07-01\n",
       "38661   2014-07-01\n",
       "45143   2014-07-01\n",
       "45154   2014-07-01\n",
       "45155   2014-07-01\n",
       "Name: last_trip_date, dtype: datetime64[ns]"
      ]
     },
     "execution_count": 26,
     "metadata": {},
     "output_type": "execute_result"
    }
   ],
   "source": [
    "# Sort the last trip date to determine the user retention\n",
    "ultimate['last_trip_date'].sort_values(ascending=False).head(10)"
   ]
  },
  {
   "cell_type": "markdown",
   "metadata": {},
   "source": [
    "Based on the last trip date info, the data was pulled on July 1, 2014. So, a rider is considered retained if s/he took a trip after June 1, 2014."
   ]
  },
  {
   "cell_type": "code",
   "execution_count": 27,
   "metadata": {},
   "outputs": [
    {
     "data": {
      "text/plain": [
       "Timestamp('2014-06-01 00:00:00')"
      ]
     },
     "execution_count": 27,
     "metadata": {},
     "output_type": "execute_result"
    }
   ],
   "source": [
    "# Compute the cutoff time for determing user retention\n",
    "cutoff = ultimate['last_trip_date'].max() - pd.Timedelta('30 days')\n",
    "\n",
    "cutoff"
   ]
  },
  {
   "cell_type": "code",
   "execution_count": 28,
   "metadata": {},
   "outputs": [
    {
     "data": {
      "text/plain": [
       "0    31196\n",
       "1    18804\n",
       "Name: retained, dtype: int64"
      ]
     },
     "execution_count": 28,
     "metadata": {},
     "output_type": "execute_result"
    }
   ],
   "source": [
    "# Determine if a user is retained based on the cutoff time\n",
    "ultimate['retained'] = ultimate['last_trip_date'].apply(lambda x: 1 if x >= cutoff else 0)\n",
    "\n",
    "# Compute the fraction of user retained\n",
    "ultimate['retained'].value_counts()"
   ]
  },
  {
   "cell_type": "markdown",
   "metadata": {},
   "source": [
    "As shown, only 18,804 riders (37.6% of all users) signed up in January, 2014 are retained six month later."
   ]
  },
  {
   "cell_type": "code",
   "execution_count": 29,
   "metadata": {},
   "outputs": [],
   "source": [
    "ultimate = ultimate.drop('signup_date', axis=1)"
   ]
  },
  {
   "cell_type": "code",
   "execution_count": 30,
   "metadata": {},
   "outputs": [],
   "source": [
    "ultimate = ultimate.drop('last_trip_date', axis=1)"
   ]
  },
  {
   "cell_type": "markdown",
   "metadata": {},
   "source": [
    "#### EDA"
   ]
  },
  {
   "cell_type": "code",
   "execution_count": 31,
   "metadata": {},
   "outputs": [
    {
     "data": {
      "image/png": "[encoded data removed]",
      "text/plain": [
       "<Figure size 1080x360 with 3 Axes>"
      ]
     },
     "metadata": {
      "needs_background": "light"
     },
     "output_type": "display_data"
    }
   ],
   "source": [
    "plt.figure(figsize=(15,5))\n",
    "\n",
    "# city and retained\n",
    "ax1 = plt.subplot(1,3,1)\n",
    "sns.countplot(x='city', data=ultimate, hue='retained', palette=['#e76a00', '#3e618b'])\n",
    "\n",
    "# phone and retained\n",
    "ax2 = plt.subplot(1,3,2)\n",
    "sns.countplot(x='phone', data=ultimate, hue='retained', palette=['#e76a00', '#3e618b'])\n",
    "\n",
    "# ultimate_black_user and retained\n",
    "ax3 = plt.subplot(1,3,3)\n",
    "sns.countplot(x='ultimate_black_user', data=ultimate, hue='retained', palette=['#e76a00', '#3e618b'])\n",
    "\n",
    "plt.show()"
   ]
  },
  {
   "cell_type": "markdown",
   "metadata": {},
   "source": [
    "When we look at the relationship between the categorical features and the retained feature (dependent/target variable), King's Landing seems to be the most successful among the three cities, whereas Astapor is the least successful. Also, iPhone users have higher retention rate than Android users. Lastly, ultimate black users have a higher retention rate than non-ultimate black users.\n",
    "\n"
   ]
  },
  {
   "cell_type": "code",
   "execution_count": 32,
   "metadata": {},
   "outputs": [
    {
     "data": {
      "image/png": "[encoded data removed]",
      "text/plain": [
       "<Figure size 720x576 with 2 Axes>"
      ]
     },
     "metadata": {
      "needs_background": "light"
     },
     "output_type": "display_data"
    }
   ],
   "source": [
    "# generate a heatmap for the numerical features and the target feature\n",
    "plt.figure(figsize=(10,8))\n",
    "sns.heatmap(ultimate.corr(), annot=True, vmin=-1, vmax=1, fmt='.2f', cmap='RdBu')\n",
    "plt.show()"
   ]
  },
  {
   "cell_type": "markdown",
   "metadata": {},
   "source": [
    "According to the heatmap above, among the numerical features, trips_in_first_30_days and ultimate_black_user features have the highest positive correlation with the retantion variable. avg_dist, on the hand hand, has the highest negative correlation with the retantion variable."
   ]
  },
  {
   "cell_type": "markdown",
   "metadata": {},
   "source": [
    "### Model Building\n",
    "Im this section, 4 different classification algorithms will be used to predict rider retention.\n",
    "\n",
    "1. Logistic Regression (Linear)\n",
    "2. Support Vector Machine Classifier (SVM) (Non-linear)\n",
    "3. Random Forest Classifier (ensemble of tree-based)\n",
    "4. Gradient Boosting Classifier ((ensemble of tree-based)"
   ]
  },
  {
   "cell_type": "code",
   "execution_count": 33,
   "metadata": {},
   "outputs": [],
   "source": [
    "from sklearn.preprocessing import StandardScaler\n",
    "from sklearn.model_selection import train_test_split\n",
    "from sklearn.model_selection import GridSearchCV\n",
    "from sklearn.pipeline import Pipeline\n",
    "from sklearn.linear_model import LogisticRegression\n",
    "from sklearn.svm import SVC\n",
    "from sklearn.ensemble import RandomForestClassifier, GradientBoostingClassifier\n",
    "from sklearn.metrics import roc_curve, auc, confusion_matrix, classification_report\n",
    "from sklearn.metrics import roc_auc_score, precision_score, recall_score, accuracy_score, f1_score\n",
    "\n",
    "import warnings\n",
    "warnings.filterwarnings('ignore')"
   ]
  },
  {
   "cell_type": "code",
   "execution_count": 34,
   "metadata": {},
   "outputs": [],
   "source": [
    "# convert categorical features into dummy variables\n",
    "ultimate = pd.get_dummies(ultimate, drop_first=True)"
   ]
  },
  {
   "cell_type": "code",
   "execution_count": 35,
   "metadata": {},
   "outputs": [
    {
     "name": "stdout",
     "output_type": "stream",
     "text": [
      "<class 'pandas.core.frame.DataFrame'>\n",
      "RangeIndex: 50000 entries, 0 to 49999\n",
      "Data columns (total 13 columns):\n",
      "trips_in_first_30_days    50000 non-null int64\n",
      "avg_rating_of_driver      50000 non-null float64\n",
      "avg_surge                 50000 non-null float64\n",
      "surge_pct                 50000 non-null float64\n",
      "ultimate_black_user       50000 non-null bool\n",
      "weekday_pct               50000 non-null float64\n",
      "avg_dist                  50000 non-null float64\n",
      "avg_rating_by_driver      50000 non-null float64\n",
      "retained                  50000 non-null int64\n",
      "city_King's Landing       50000 non-null uint8\n",
      "city_Winterfell           50000 non-null uint8\n",
      "phone_Iphone              50000 non-null uint8\n",
      "phone_iPhone              50000 non-null uint8\n",
      "dtypes: bool(1), float64(6), int64(2), uint8(4)\n",
      "memory usage: 3.3 MB\n"
     ]
    }
   ],
   "source": [
    "# check again for basic info of the dataframe\n",
    "ultimate.info()"
   ]
  },
  {
   "cell_type": "code",
   "execution_count": 36,
   "metadata": {},
   "outputs": [],
   "source": [
    "# extract the features X  and the target variable y\n",
    "y = ultimate['retained']\n",
    "X = ultimate.drop('retained', axis=1)"
   ]
  },
  {
   "cell_type": "code",
   "execution_count": 37,
   "metadata": {},
   "outputs": [],
   "source": [
    "# Splitting the dataset in training (75%) and testing set (25%)\n",
    "X_train, X_test, y_train, y_test = train_test_split(X, y, \n",
    "                                                    test_size=0.25, \n",
    "                                                    random_state=42,\n",
    "                                                    stratify=y)"
   ]
  },
  {
   "cell_type": "code",
   "execution_count": 38,
   "metadata": {},
   "outputs": [],
   "source": [
    "# scale X_train numeric continuous features\n",
    "scaler = StandardScaler()\n",
    "numeric_cols = X_train.columns[(X_train.dtypes == 'float64') | (X_train.dtypes == 'int64')].to_list()\n",
    "scaler.fit(X_train[numeric_cols])\n",
    "X_train[numeric_cols] = scaler.transform(X_train[numeric_cols])"
   ]
  },
  {
   "cell_type": "code",
   "execution_count": 39,
   "metadata": {},
   "outputs": [],
   "source": [
    "# I will list and compare the different algorithms. \n",
    "model_evaluation = []\n",
    "\n",
    "def Evaluation(model, X_test, y_test, y_pred):\n",
    "    \"\"\"\n",
    "    This function is to produce model statistics\n",
    "    \"\"\"\n",
    "    # Append model statistics to model_evaluation list\n",
    "    roc_auc = roc_auc_score(y_test, y_pred)\n",
    "    Precision=precision_score(y_test,y_pred)\n",
    "    Accuracy=accuracy_score(y_test,y_pred)\n",
    "    Recall=recall_score(y_test,y_pred)\n",
    "    F1=f1_score(y_test,y_pred)\n",
    "    model_evaluation.append([model, Accuracy, roc_auc, Precision, Recall, F1])"
   ]
  },
  {
   "cell_type": "code",
   "execution_count": 40,
   "metadata": {},
   "outputs": [
    {
     "name": "stdout",
     "output_type": "stream",
     "text": [
      "model \t accuracy_score\n",
      "-----------------------\n",
      "LR \t 0.67048\n",
      "SVM \t 0.62392\n",
      "RF \t 0.62912\n",
      "GB \t 0.63488\n"
     ]
    }
   ],
   "source": [
    "# Create a dictionary for the models\n",
    "models = {'LR': LogisticRegression(),\n",
    "          'SVM': SVC(),\n",
    "          'RF': RandomForestClassifier(),\n",
    "          'GB': GradientBoostingClassifier()}\n",
    "\n",
    "# flag variable\n",
    "header = True\n",
    "\n",
    "for i in models.keys():\n",
    "    models[i].fit(X_train, y_train)\n",
    "    scores = models[i].score(X_test, y_test)\n",
    "    if header == True:\n",
    "        print('model', '\\t', 'accuracy_score')\n",
    "        print('-----------------------')\n",
    "        header = False\n",
    "    \n",
    "    print(i, '\\t', scores)\n",
    "    \n",
    "    # Predict the labels\n",
    "    y_pred = models[i].predict(X_test)\n",
    "    Evaluation(i, X_test, y_test, y_pred)"
   ]
  },
  {
   "cell_type": "code",
   "execution_count": 41,
   "metadata": {},
   "outputs": [
    {
     "data": {
      "text/html": [
       "<div>\n",
       "<style scoped>\n",
       "    .dataframe tbody tr th:only-of-type {\n",
       "        vertical-align: middle;\n",
       "    }\n",
       "\n",
       "    .dataframe tbody tr th {\n",
       "        vertical-align: top;\n",
       "    }\n",
       "\n",
       "    .dataframe thead th {\n",
       "        text-align: right;\n",
       "    }\n",
       "</style>\n",
       "<table border=\"1\" class=\"dataframe\">\n",
       "  <thead>\n",
       "    <tr style=\"text-align: right;\">\n",
       "      <th></th>\n",
       "      <th>Accuracy</th>\n",
       "      <th>ROC_AUC</th>\n",
       "      <th>Precision</th>\n",
       "      <th>Recall</th>\n",
       "      <th>F1</th>\n",
       "    </tr>\n",
       "    <tr>\n",
       "      <th>Model</th>\n",
       "      <th></th>\n",
       "      <th></th>\n",
       "      <th></th>\n",
       "      <th></th>\n",
       "      <th></th>\n",
       "    </tr>\n",
       "  </thead>\n",
       "  <tbody>\n",
       "    <tr>\n",
       "      <td>LR</td>\n",
       "      <td>0.67048</td>\n",
       "      <td>0.633472</td>\n",
       "      <td>0.573300</td>\n",
       "      <td>0.484152</td>\n",
       "      <td>0.524968</td>\n",
       "    </tr>\n",
       "    <tr>\n",
       "      <td>RF</td>\n",
       "      <td>0.62912</td>\n",
       "      <td>0.561711</td>\n",
       "      <td>0.512223</td>\n",
       "      <td>0.289726</td>\n",
       "      <td>0.370109</td>\n",
       "    </tr>\n",
       "    <tr>\n",
       "      <td>GB</td>\n",
       "      <td>0.63488</td>\n",
       "      <td>0.545245</td>\n",
       "      <td>0.543109</td>\n",
       "      <td>0.183578</td>\n",
       "      <td>0.274404</td>\n",
       "    </tr>\n",
       "    <tr>\n",
       "      <td>SVM</td>\n",
       "      <td>0.62392</td>\n",
       "      <td>0.500000</td>\n",
       "      <td>0.000000</td>\n",
       "      <td>0.000000</td>\n",
       "      <td>0.000000</td>\n",
       "    </tr>\n",
       "  </tbody>\n",
       "</table>\n",
       "</div>"
      ],
      "text/plain": [
       "       Accuracy   ROC_AUC  Precision    Recall        F1\n",
       "Model                                                   \n",
       "LR      0.67048  0.633472   0.573300  0.484152  0.524968\n",
       "RF      0.62912  0.561711   0.512223  0.289726  0.370109\n",
       "GB      0.63488  0.545245   0.543109  0.183578  0.274404\n",
       "SVM     0.62392  0.500000   0.000000  0.000000  0.000000"
      ]
     },
     "execution_count": 41,
     "metadata": {},
     "output_type": "execute_result"
    }
   ],
   "source": [
    "# prepare a dataframe using all the models with their performance measures\n",
    "df_eval=pd.DataFrame(model_evaluation,columns=['Model', 'Accuracy', 'ROC_AUC', 'Precision', 'Recall', 'F1'])\n",
    "df_eval.sort_values(['ROC_AUC'],ascending=False,inplace=True)\n",
    "df_eval=df_eval.set_index('Model')\n",
    "df_eval"
   ]
  },
  {
   "cell_type": "markdown",
   "metadata": {},
   "source": [
    "__GradientBoostingClassifier__ algorithm has the highest accuracy score along with the highest ROC-AUC, precision, recall, and F1 scores. Overall, it gives the highest performance in predicting the rider retention. In the following section, I will perform a parameter-tuning for the GradientBoostingClassifier model."
   ]
  },
  {
   "cell_type": "code",
   "execution_count": 42,
   "metadata": {},
   "outputs": [
    {
     "name": "stdout",
     "output_type": "stream",
     "text": [
      "Tuned Gradient Boosting Classifier Parameters: {'n_estimators': 600}\n",
      "Best score is 0.7877066666666667\n"
     ]
    }
   ],
   "source": [
    "# grid search optimization of GradientBoostingClassifier\n",
    "\n",
    "# grid search of parameters n_estimators and max_features to improve GradientBoostingClassifer model\n",
    "param_grid = {'n_estimators': np.arange(200,1000,200)}\n",
    "\n",
    "# instantiate a Decision Tree classifier: tree\n",
    "gb = GradientBoostingClassifier()\n",
    "\n",
    "# instantiate the GridSearchCV object\n",
    "gb_cv = GridSearchCV(gb, param_grid, scoring='accuracy', cv=3)\n",
    "\n",
    "# fit it to the data\n",
    "gb_cv.fit(X_train, y_train)\n",
    "\n",
    "# print the tuned parameters and score\n",
    "print(\"Tuned Gradient Boosting Classifier Parameters: {}\".format(gb_cv.best_params_)) \n",
    "print(\"Best score is {}\".format(gb_cv.best_score_))"
   ]
  },
  {
   "cell_type": "code",
   "execution_count": 43,
   "metadata": {},
   "outputs": [
    {
     "data": {
      "image/png": "[encoded data removed]",
      "text/plain": [
       "<Figure size 432x288 with 1 Axes>"
      ]
     },
     "metadata": {
      "needs_background": "light"
     },
     "output_type": "display_data"
    }
   ],
   "source": [
    "gb = GradientBoostingClassifier(n_estimators=600)\n",
    "gb.fit(X_train, y_train)\n",
    "\n",
    "# feature importance\n",
    "feat = X_train.columns\n",
    "imp = gb.feature_importances_\n",
    "df_gb = pd.DataFrame({'Feature': feat, 'Importance': imp})\n",
    "df_gb = df_gb.sort_values('Importance', ascending=False)\n",
    "sns.barplot(x='Importance', y='Feature', data=df_gb, palette='colorblind');"
   ]
  },
  {
   "cell_type": "markdown",
   "metadata": {},
   "source": [
    "### Business Recommendations\n",
    "1. The drivers of King's Landing tend to have greater probability for retention compared to the other two cities. One recommendation can be increasing operations in King's Landing or alternatively looking for the possible reasons for the rider retention that is unique to the King's Landing.\n",
    "2. Ultimate black users also tend to show a greater retention rate than the non-ultimate black users. Similarly, drivers who use iPhone have a higher probability to remain than the drivers who use Android phones. Additional investigation may be required to understand the reasons behind the differences between the groups.\n",
    "3. As the Gradient Boosting Classifier suggests, avg_rating_by_driver, surge_pct and weekday_pct features are among the most important features in predicting rider retention. Hence, the Ultimate Inc. can focus on these important features as giving perks or additional benefits to those who drive in weekdays."
   ]
  }
 ],
 "metadata": {
  "kernelspec": {
   "display_name": "Python 3",
   "language": "python",
   "name": "python3"
  },
  "language_info": {
   "codemirror_mode": {
    "name": "ipython",
    "version": 3
   },
   "file_extension": ".py",
   "mimetype": "text/x-python",
   "name": "python",
   "nbconvert_exporter": "python",
   "pygments_lexer": "ipython3",
   "version": "3.7.4"
  },
  "toc": {
   "base_numbering": 1,
   "nav_menu": {},
   "number_sections": false,
   "sideBar": true,
   "skip_h1_title": false,
   "title_cell": "Table of Contents",
   "title_sidebar": "Contents",
   "toc_cell": true,
   "toc_position": {},
   "toc_section_display": true,
   "toc_window_display": false
  }
 },
 "nbformat": 4,
 "nbformat_minor": 2
}
