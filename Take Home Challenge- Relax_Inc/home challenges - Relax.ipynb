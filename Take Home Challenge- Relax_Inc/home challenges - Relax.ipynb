{
 "cells": [
  {
   "cell_type": "markdown",
   "metadata": {
    "toc": true
   },
   "source": [
    "<h1>Table of Contents<span class=\"tocSkip\"></span></h1>\n",
    "<div class=\"toc\"><ul class=\"toc-item\"><li><span><a href=\"#1.-Loading-Data\" data-toc-modified-id=\"1.-Loading-Data-1\">1. Loading Data</a></span><ul class=\"toc-item\"><li><ul class=\"toc-item\"><li><ul class=\"toc-item\"><li><ul class=\"toc-item\"><li><ul class=\"toc-item\"><li><span><a href=\"##-Get-info-from-df-dataset\" data-toc-modified-id=\"#-Get-info-from-df-dataset-1.0.0.0.0.1\"># Get info from df dataset</a></span></li><li><span><a href=\"##-Get-info-from-df_engagement-dataset\" data-toc-modified-id=\"#-Get-info-from-df_engagement-dataset-1.0.0.0.0.2\"># Get info from df_engagement dataset</a></span></li></ul></li></ul></li></ul></li></ul></li></ul></li><li><span><a href=\"#2.-Data-Wrangling\" data-toc-modified-id=\"2.-Data-Wrangling-2\">2. Data Wrangling</a></span></li><li><span><a href=\"#3.-Exploratory-Data-Analysis-(EDA)\" data-toc-modified-id=\"3.-Exploratory-Data-Analysis-(EDA)-3\">3. Exploratory Data Analysis (EDA)</a></span><ul class=\"toc-item\"><li><ul class=\"toc-item\"><li><span><a href=\"#Percentage-of-the-users-are-adopted\" data-toc-modified-id=\"Percentage-of-the-users-are-adopted-3.0.1\">Percentage of the users are adopted</a></span></li><li><span><a href=\"#Analyze-adopted-opted_in_mailing_list-with-adopted-users\" data-toc-modified-id=\"Analyze-adopted-opted_in_mailing_list-with-adopted-users-3.0.2\">Analyze adopted opted_in_mailing_list with adopted users</a></span></li><li><span><a href=\"#Analyze-enable_for_marketing_drip-vs-adopted_user\" data-toc-modified-id=\"Analyze-enable_for_marketing_drip-vs-adopted_user-3.0.3\">Analyze enable_for_marketing_drip vs adopted_user</a></span></li><li><span><a href=\"#Analyze-invited-vs-adopted_users\" data-toc-modified-id=\"Analyze-invited-vs-adopted_users-3.0.4\">Analyze invited vs adopted_users</a></span></li><li><span><a href=\"#Analyze-creation_source-vs-adopted_user\" data-toc-modified-id=\"Analyze-creation_source-vs-adopted_user-3.0.5\">Analyze creation_source vs adopted_user</a></span></li><li><span><a href=\"#Analyze-email-domain-with-adopted-users\" data-toc-modified-id=\"Analyze-email-domain-with-adopted-users-3.0.6\">Analyze email domain with adopted users</a></span></li></ul></li></ul></li><li><span><a href=\"#4.-Feature-Engineering\" data-toc-modified-id=\"4.-Feature-Engineering-4\">4. Feature Engineering</a></span></li><li><span><a href=\"#5.-Model-Building\" data-toc-modified-id=\"5.-Model-Building-5\">5. Model Building</a></span><ul class=\"toc-item\"><li><ul class=\"toc-item\"><li><ul class=\"toc-item\"><li><span><a href=\"#Logistic-Regression\" data-toc-modified-id=\"Logistic-Regression-5.0.0.1\">Logistic Regression</a></span></li><li><span><a href=\"#Support-Vector-Machine\" data-toc-modified-id=\"Support-Vector-Machine-5.0.0.2\">Support Vector Machine</a></span></li><li><span><a href=\"#Random-Forest-Classifier\" data-toc-modified-id=\"Random-Forest-Classifier-5.0.0.3\">Random Forest Classifier</a></span></li><li><span><a href=\"#Random-Forest-Classifier-with-Grid-Searh-CV\" data-toc-modified-id=\"Random-Forest-Classifier-with-Grid-Searh-CV-5.0.0.4\">Random Forest Classifier with Grid Searh CV</a></span></li><li><span><a href=\"#Gradient-Boosting-Classifier\" data-toc-modified-id=\"Gradient-Boosting-Classifier-5.0.0.5\">Gradient Boosting Classifier</a></span></li></ul></li></ul></li><li><span><a href=\"#Feature-Importance\" data-toc-modified-id=\"Feature-Importance-5.1\">Feature Importance</a></span></li></ul></li><li><span><a href=\"#Conclusion\" data-toc-modified-id=\"Conclusion-6\">Conclusion</a></span></li></ul></div>"
   ]
  },
  {
   "cell_type": "markdown",
   "metadata": {},
   "source": [
    "# 1. Loading Data"
   ]
  },
  {
   "cell_type": "code",
   "execution_count": 1,
   "metadata": {},
   "outputs": [],
   "source": [
    "import pandas            as pd \n",
    "import numpy             as np\n",
    "import seaborn           as sns\n",
    "import matplotlib.pyplot as plt\n",
    "\n",
    "sns.set(style='whitegrid')\n",
    "%matplotlib inline\n",
    "\n",
    "import statsmodels.api        as sm\n",
    "import datetime               as dt\n",
    "import calendar\n",
    "import traceback\n",
    "import string\n",
    "import pandas_profiling\n",
    "import time\n",
    "\n",
    "\n",
    "from sklearn.ensemble     import GradientBoostingClassifier\n",
    "from sklearn.ensemble     import RandomForestClassifier\n",
    "from sklearn.linear_model import LogisticRegression\n",
    "\n",
    "\n",
    "from sklearn           import metrics\n",
    "from sklearn.svm       import SVC\n",
    "from sklearn.metrics   import roc_curve, auc, accuracy_score\n",
    "from sklearn.metrics   import confusion_matrix,f1_score\n",
    "from sklearn.metrics   import classification_report\n",
    "from sklearn.metrics   import log_loss ,recall_score\n",
    "from sklearn.metrics   import average_precision_score,precision_score\n",
    "from sklearn.metrics   import roc_auc_score, precision_score, recall_score, accuracy_score, f1_score\n",
    "\n",
    "from sklearn.preprocessing     import StandardScaler\n",
    "from sklearn.model_selection   import GridSearchCV, KFold \n",
    "from sklearn.model_selection   import train_test_split\n",
    "from sklearn.model_selection   import cross_val_score\n",
    "\n",
    "from sklearn.feature_selection import SelectKBest, chi2\n",
    "from sklearn.pipeline          import Pipeline\n",
    "\n",
    "import warnings\n",
    "warnings.filterwarnings('ignore')"
   ]
  },
  {
   "cell_type": "code",
   "execution_count": 2,
   "metadata": {},
   "outputs": [],
   "source": [
    "# Read dataset\n",
    "\n",
    "df = pd.read_csv('./data/takehome_users.csv',parse_dates=['creation_time'],encoding='latin-1')\n",
    "\n",
    "df_engagement = pd.read_csv('./data/takehome_user_engagement.csv',parse_dates=['time_stamp'], encoding='latin-1')"
   ]
  },
  {
   "cell_type": "markdown",
   "metadata": {},
   "source": [
    "###### # Get info from df dataset"
   ]
  },
  {
   "cell_type": "code",
   "execution_count": 3,
   "metadata": {},
   "outputs": [
    {
     "data": {
      "text/html": [
       "<div>\n",
       "<style scoped>\n",
       "    .dataframe tbody tr th:only-of-type {\n",
       "        vertical-align: middle;\n",
       "    }\n",
       "\n",
       "    .dataframe tbody tr th {\n",
       "        vertical-align: top;\n",
       "    }\n",
       "\n",
       "    .dataframe thead th {\n",
       "        text-align: right;\n",
       "    }\n",
       "</style>\n",
       "<table border=\"1\" class=\"dataframe\">\n",
       "  <thead>\n",
       "    <tr style=\"text-align: right;\">\n",
       "      <th></th>\n",
       "      <th>object_id</th>\n",
       "      <th>creation_time</th>\n",
       "      <th>name</th>\n",
       "      <th>email</th>\n",
       "      <th>creation_source</th>\n",
       "      <th>last_session_creation_time</th>\n",
       "      <th>opted_in_to_mailing_list</th>\n",
       "      <th>enabled_for_marketing_drip</th>\n",
       "      <th>org_id</th>\n",
       "      <th>invited_by_user_id</th>\n",
       "    </tr>\n",
       "  </thead>\n",
       "  <tbody>\n",
       "    <tr>\n",
       "      <td>11393</td>\n",
       "      <td>11394</td>\n",
       "      <td>2013-10-14 06:46:06</td>\n",
       "      <td>Johnsen Nikolaj</td>\n",
       "      <td>NikolajMJohnsen@gmail.com</td>\n",
       "      <td>SIGNUP_GOOGLE_AUTH</td>\n",
       "      <td>1.381733e+09</td>\n",
       "      <td>0</td>\n",
       "      <td>0</td>\n",
       "      <td>6</td>\n",
       "      <td>NaN</td>\n",
       "    </tr>\n",
       "  </tbody>\n",
       "</table>\n",
       "</div>"
      ],
      "text/plain": [
       "       object_id       creation_time             name  \\\n",
       "11393      11394 2013-10-14 06:46:06  Johnsen Nikolaj   \n",
       "\n",
       "                           email     creation_source  \\\n",
       "11393  NikolajMJohnsen@gmail.com  SIGNUP_GOOGLE_AUTH   \n",
       "\n",
       "       last_session_creation_time  opted_in_to_mailing_list  \\\n",
       "11393                1.381733e+09                         0   \n",
       "\n",
       "       enabled_for_marketing_drip  org_id  invited_by_user_id  \n",
       "11393                           0       6                 NaN  "
      ]
     },
     "execution_count": 3,
     "metadata": {},
     "output_type": "execute_result"
    }
   ],
   "source": [
    "# Data information \n",
    "\n",
    "## Pandas_profiling Pandas profiling is an open source Python module with \n",
    "## which we can quickly do an exploratory data analysis with just a few lines of code.\n",
    "\n",
    "df.describe\n",
    "                                \n",
    "df.sample()\n",
    "\n",
    "                                     # as alternate way we can use \n",
    "    \n",
    "                                    ## pandas_profiling.ProfileReport(df)\n",
    "\n"
   ]
  },
  {
   "cell_type": "code",
   "execution_count": 4,
   "metadata": {},
   "outputs": [],
   "source": [
    "# convert unix timestamp of last login to a datetime object\n",
    "df['last_session_creation_time'] = pd.to_datetime(df['last_session_creation_time'], unit='s')"
   ]
  },
  {
   "cell_type": "code",
   "execution_count": 5,
   "metadata": {
    "scrolled": true
   },
   "outputs": [
    {
     "name": "stdout",
     "output_type": "stream",
     "text": [
      "<class 'pandas.core.frame.DataFrame'>\n",
      "RangeIndex: 12000 entries, 0 to 11999\n",
      "Data columns (total 10 columns):\n",
      "object_id                     12000 non-null int64\n",
      "creation_time                 12000 non-null datetime64[ns]\n",
      "name                          12000 non-null object\n",
      "email                         12000 non-null object\n",
      "creation_source               12000 non-null object\n",
      "last_session_creation_time    8823 non-null datetime64[ns]\n",
      "opted_in_to_mailing_list      12000 non-null int64\n",
      "enabled_for_marketing_drip    12000 non-null int64\n",
      "org_id                        12000 non-null int64\n",
      "invited_by_user_id            6417 non-null float64\n",
      "dtypes: datetime64[ns](2), float64(1), int64(4), object(3)\n",
      "memory usage: 937.6+ KB\n"
     ]
    }
   ],
   "source": [
    "df.info()"
   ]
  },
  {
   "cell_type": "markdown",
   "metadata": {},
   "source": [
    "###### # Get info from df_engagement dataset"
   ]
  },
  {
   "cell_type": "code",
   "execution_count": 6,
   "metadata": {},
   "outputs": [
    {
     "name": "stdout",
     "output_type": "stream",
     "text": [
      "           time_stamp  user_id  visited\n",
      "0 2014-04-22 03:53:30        1        1\n",
      "1 2013-11-15 03:45:04        2        1\n",
      "2 2013-11-29 03:45:04        2        1\n",
      "3 2013-12-09 03:45:04        2        1\n",
      "4 2013-12-25 03:45:04        2        1\n"
     ]
    }
   ],
   "source": [
    "# Display head of dataset\n",
    "\n",
    "print(df_engagement.head())\n",
    "\n",
    "#####pandas_profiling.ProfileReport(df_engagement)\n"
   ]
  },
  {
   "cell_type": "code",
   "execution_count": 7,
   "metadata": {},
   "outputs": [
    {
     "name": "stdout",
     "output_type": "stream",
     "text": [
      "<class 'pandas.core.frame.DataFrame'>\n",
      "RangeIndex: 207917 entries, 0 to 207916\n",
      "Data columns (total 3 columns):\n",
      "time_stamp    207917 non-null datetime64[ns]\n",
      "user_id       207917 non-null int64\n",
      "visited       207917 non-null int64\n",
      "dtypes: datetime64[ns](1), int64(2)\n",
      "memory usage: 4.8 MB\n",
      "None\n"
     ]
    }
   ],
   "source": [
    "print(df_engagement.info())"
   ]
  },
  {
   "cell_type": "markdown",
   "metadata": {
    "heading_collapsed": true
   },
   "source": [
    "# 2. Data Wrangling\n",
    "\n",
    "The goal of this data science challenge is to predict 'adopted user' and adopted user is defined as a user who has logged into the product on three separate days in at least one seven-day period. The takehome_user_engagement dataset or the engagement dataframe here would be used to determine whether a user is adopted or not."
   ]
  },
  {
   "cell_type": "code",
   "execution_count": 8,
   "metadata": {
    "hidden": true
   },
   "outputs": [
    {
     "name": "stdout",
     "output_type": "stream",
     "text": [
      "There are 8823 users who have ever used the application.\n",
      "There are 12000 users who signed up for the application.\n",
      "There are 3177 inactive users.\n",
      "There are 2248 users who logged in at least 3 times.\n"
     ]
    }
   ],
   "source": [
    "# count how many users have each dataset\n",
    "\n",
    "print('There are {} users who have ever used the application.'\n",
    "      .format(df_engagement['user_id'].nunique()))\n",
    "\n",
    "print('There are {} users who signed up for the application.'\n",
    "      .format(df['object_id'].nunique()))\n",
    "\n",
    "print('There are {} inactive users.'\n",
    "      .format(df['object_id'].nunique()-df_engagement['user_id'].nunique()))\n",
    "\n",
    "# Take down users who loggen in 3 times in total\n",
    "least3_logins = df_engagement.groupby('user_id').filter(lambda x: len(x)>=3)\n",
    "print('There are {} users who logged in at least 3 times.'\n",
    "      .format(least3_logins['user_id'].nunique()))"
   ]
  },
  {
   "cell_type": "code",
   "execution_count": 9,
   "metadata": {
    "hidden": true
   },
   "outputs": [],
   "source": [
    "# convert time_stamp to a datetime object\n",
    "\n",
    "df_engagement['time_stamp'] = pd.to_datetime(df_engagement['time_stamp']) - pd.to_timedelta(7,unit='d')\n",
    "\n",
    "# initiate a week as days\n",
    "days = ['MON','TUE','WED','THU','FRI','SAT','SUN']\n",
    "\n",
    "\n",
    "\n",
    "# Finding how many of the 2248 unique three-logins users are adopted users \n",
    "# who have logged in three separate days in at least one 7 day period \n",
    "\n",
    "user_days=pd.Series([])\n",
    "\n",
    "for day in days :\n",
    "    s = df_engagement.groupby(['user_id',pd.Grouper(key='time_stamp',freq='W-'+day)]\n",
    "                             )['visited'].count().reset_index().sort_values('user_id')\n",
    "    \n",
    "    s =s.groupby('user_id')['visited'].max()\n",
    "   \n",
    "    if len(user_days) == 0:\n",
    "        user_days = s\n",
    "    \n",
    "    else :\n",
    "        user_days = pd.DataFrame([user_days,s]).max()\n",
    "    \n",
    "    "
   ]
  },
  {
   "cell_type": "code",
   "execution_count": 10,
   "metadata": {
    "hidden": true
   },
   "outputs": [
    {
     "name": "stdout",
     "output_type": "stream",
     "text": [
      "user_id\n",
      "1    1\n",
      "2    3\n",
      "3    1\n",
      "4    1\n",
      "5    1\n",
      "dtype: int64\n"
     ]
    }
   ],
   "source": [
    "print(user_days.head())"
   ]
  },
  {
   "cell_type": "code",
   "execution_count": 11,
   "metadata": {
    "hidden": true
   },
   "outputs": [],
   "source": [
    "df['adopted_users'] = df['object_id'].apply(lambda x : 'adopted user' if x in user_days and user_days[x] >=3 else 'not adopted user')"
   ]
  },
  {
   "cell_type": "code",
   "execution_count": 12,
   "metadata": {
    "hidden": true
   },
   "outputs": [
    {
     "data": {
      "text/plain": [
       "not adopted user    10398\n",
       "adopted user         1602\n",
       "Name: adopted_users, dtype: int64"
      ]
     },
     "execution_count": 12,
     "metadata": {},
     "output_type": "execute_result"
    }
   ],
   "source": [
    "# Print how many users adopted or not.\n",
    "df['adopted_users'].value_counts()\n"
   ]
  },
  {
   "cell_type": "code",
   "execution_count": 13,
   "metadata": {
    "hidden": true
   },
   "outputs": [
    {
     "data": {
      "text/plain": [
       "1    6417\n",
       "0    5583\n",
       "Name: invited, dtype: int64"
      ]
     },
     "execution_count": 13,
     "metadata": {},
     "output_type": "execute_result"
    }
   ],
   "source": [
    "# Invited_by_user_id looks float but it should be int \n",
    "## convert invited_by_user_id astype float to int\n",
    "\n",
    "\n",
    "df['invited']=df['invited_by_user_id'].apply(lambda x: 0 if np.isnan(x) else 1)\n",
    "\n",
    "df.invited.value_counts()\n",
    "\n",
    "### Alternative way to using invited _users.\n",
    "# invited_users = df[df['invited_by_user_id'].notnull()]['invited_by_user_id'].astype('int')\n",
    "# invited_users = pd.Series(1, index = invited_users)"
   ]
  },
  {
   "cell_type": "markdown",
   "metadata": {},
   "source": [
    "# 3. Exploratory Data Analysis (EDA)"
   ]
  },
  {
   "cell_type": "markdown",
   "metadata": {},
   "source": [
    "***\n",
    "### Percentage of the users are adopted\n",
    "***"
   ]
  },
  {
   "cell_type": "code",
   "execution_count": 14,
   "metadata": {
    "scrolled": false
   },
   "outputs": [
    {
     "name": "stdout",
     "output_type": "stream",
     "text": [
      "Total percentage of the adopted users are: 13.35 %\n",
      "not adopted user    10398\n",
      "adopted user         1602\n",
      "Name: adopted_users, dtype: int64\n"
     ]
    },
    {
     "data": {
      "image/png": "[encoded data removed]",
      "text/plain": [
       "<Figure size 432x360 with 1 Axes>"
      ]
     },
     "metadata": {
      "needs_background": "light"
     },
     "output_type": "display_data"
    }
   ],
   "source": [
    "# Plot percentage of adopted user\n",
    "\n",
    "plt.figure(figsize=(6,5))\n",
    "ax = sns.countplot(df['adopted_users'])\n",
    "plt.title('Distribution of Users Status',fontweight='bold')\n",
    "plt.xlabel('Users Status')\n",
    "plt.ylabel('Users Number')\n",
    "\n",
    "\n",
    "# calculate the percentages of the category\n",
    "sizes=[]\n",
    "total_data = len(df)\n",
    "for p in ax.patches:\n",
    "    height = p.get_height()\n",
    "    ax.text(p.get_x()+p.get_width()/2.,height+50,\n",
    "            '{:1.2f}%'.format(height/total_data*100), ha=\"center\", fontsize=15)\n",
    "\n",
    "# Display the plot\n",
    "plt.show\n",
    "\n",
    "# Print Users status value count and total percentages\n",
    "\n",
    "print('Total percentage of the adopted users are:',\n",
    "      100*df['adopted_users'].apply(lambda x: 1 if x == 'adopted user' else 0).sum()/len(df),'%')\n",
    "print(df['adopted_users'].value_counts())"
   ]
  },
  {
   "cell_type": "markdown",
   "metadata": {},
   "source": [
    "***\n",
    "### Analyze adopted opted_in_mailing_list with adopted users\n",
    "***"
   ]
  },
  {
   "cell_type": "code",
   "execution_count": 15,
   "metadata": {},
   "outputs": [
    {
     "data": {
      "image/png": "[encoded data removed]",
      "text/plain": [
       "<Figure size 360x360 with 1 Axes>"
      ]
     },
     "metadata": {
      "needs_background": "light"
     },
     "output_type": "display_data"
    }
   ],
   "source": [
    "ax1 = sns.PairGrid(data=df , x_vars='adopted_users',\n",
    "             y_vars='opted_in_to_mailing_list', size=5)\n",
    "ax1.map(sns.pointplot)\n",
    "ax1.set(ylim=(0,1))\n",
    "plt.show()"
   ]
  },
  {
   "cell_type": "markdown",
   "metadata": {},
   "source": [
    "Graph on the above shows, users who opted in mailing list has very little to do with ending up as an adopted user."
   ]
  },
  {
   "cell_type": "markdown",
   "metadata": {},
   "source": [
    "***\n",
    "### Analyze enable_for_marketing_drip vs adopted_user\n",
    "***"
   ]
  },
  {
   "cell_type": "code",
   "execution_count": 16,
   "metadata": {
    "scrolled": true
   },
   "outputs": [
    {
     "data": {
      "image/png": "[encoded data removed]",
      "text/plain": [
       "<Figure size 360x360 with 1 Axes>"
      ]
     },
     "metadata": {
      "needs_background": "light"
     },
     "output_type": "display_data"
    }
   ],
   "source": [
    "ax2 = sns.PairGrid(data=df, x_vars='adopted_users',\n",
    "                   y_vars = 'enabled_for_marketing_drip', size=5 )\n",
    "ax2.map(sns.pointplot)\n",
    "ax2.set(ylim=(0,1))\n",
    "plt.show()"
   ]
  },
  {
   "cell_type": "markdown",
   "metadata": {},
   "source": [
    "Marketing drip is not effective in adopting users"
   ]
  },
  {
   "cell_type": "markdown",
   "metadata": {},
   "source": [
    "***\n",
    "### Analyze invited vs adopted_users\n",
    "***"
   ]
  },
  {
   "cell_type": "code",
   "execution_count": 17,
   "metadata": {},
   "outputs": [
    {
     "data": {
      "image/png": "[encoded data removed]",
      "text/plain": [
       "<Figure size 360x360 with 1 Axes>"
      ]
     },
     "metadata": {
      "needs_background": "light"
     },
     "output_type": "display_data"
    }
   ],
   "source": [
    "ax3 = sns.PairGrid(data=df, x_vars='adopted_users',\n",
    "                   y_vars='invited',size=5)\n",
    "ax3.map(sns.pointplot)\n",
    "ax3.set(ylim=(0,1))\n",
    "plt.show()"
   ]
  },
  {
   "cell_type": "markdown",
   "metadata": {},
   "source": [
    "Who have invited other users have a slightly larger chance of being an adopted user."
   ]
  },
  {
   "cell_type": "markdown",
   "metadata": {},
   "source": [
    "***\n",
    "### Analyze creation_source vs adopted_user\n",
    "***"
   ]
  },
  {
   "cell_type": "code",
   "execution_count": 18,
   "metadata": {},
   "outputs": [
    {
     "data": {
      "image/png": "[encoded data removed]",
      "text/plain": [
       "<Figure size 720x360 with 1 Axes>"
      ]
     },
     "metadata": {
      "needs_background": "light"
     },
     "output_type": "display_data"
    }
   ],
   "source": [
    "plt.figure(figsize=(10,5))\n",
    "sns.countplot(x='creation_source', data=df,hue='adopted_users')\n",
    "plt.xticks(rotation=90)\n",
    "plt.show()"
   ]
  },
  {
   "cell_type": "markdown",
   "metadata": {},
   "source": [
    "Users with the accounts that were created for personal projects are less likely to be adopted compared to the other users."
   ]
  },
  {
   "cell_type": "markdown",
   "metadata": {},
   "source": [
    "***\n",
    "### Analyze email domain with adopted users\n",
    "***"
   ]
  },
  {
   "cell_type": "code",
   "execution_count": 19,
   "metadata": {},
   "outputs": [],
   "source": [
    "df['adopted_users'] = df.adopted_users.apply(lambda x: 1 if x=='adopted user' else 0)\n",
    "\n",
    "\n",
    "df['email'] = df['email'].apply(lambda x: x[x.find('@')+1:])\n",
    "major_emails = ['gmail.com','yahoo.com', 'jourrapide.com', 'cuvox.de', 'gustr.com', 'hotmail.com']\n",
    "\n"
   ]
  },
  {
   "cell_type": "code",
   "execution_count": 20,
   "metadata": {},
   "outputs": [],
   "source": [
    "df['email'] =  df['email'].apply(lambda x: 'other' if x not in major_emails else x[:x.find('.')])\n"
   ]
  },
  {
   "cell_type": "code",
   "execution_count": 21,
   "metadata": {},
   "outputs": [
    {
     "data": {
      "image/png": "[encoded data removed]",
      "text/plain": [
       "<Figure size 432x288 with 2 Axes>"
      ]
     },
     "metadata": {
      "needs_background": "light"
     },
     "output_type": "display_data"
    },
    {
     "data": {
      "text/plain": [
       "email\n",
       "cuvox         0.114809\n",
       "gmail         0.152442\n",
       "gustr         0.121289\n",
       "hotmail       0.169099\n",
       "jourrapide    0.129468\n",
       "other         0.132378\n",
       "yahoo         0.106661\n",
       "Name: adopted_users, dtype: float64"
      ]
     },
     "execution_count": 21,
     "metadata": {},
     "output_type": "execute_result"
    }
   ],
   "source": [
    "\n",
    "feature = df.groupby('email').agg({'adopted_users':['size', 'sum', 'mean']})\n",
    "feature.columns = [' '.join(col).strip() for col in feature.columns.values]\n",
    "feature = feature.reset_index()\n",
    "feature['adopted_users mean'] = feature['adopted_users mean']*100\n",
    "feature.columns = ['email', 'Total Users', 'Adopted Users Number', \n",
    "                       '% of Adopted Users in the Relevant Group'] \n",
    "    \n",
    "fig0, ax1 = plt.subplots()\n",
    "ax2 = ax1.twinx()\n",
    "feature.set_index(feature['email'], drop=True, inplace=True)\n",
    "feature['Total Users'].plot(kind = 'bar', stacked = True, ax = ax1, \n",
    "                                   colormap = 'winter')\n",
    "feature['% of Adopted Users in the Relevant Group'].plot(use_index = False, \n",
    "                                                         kind = 'line', ax = ax2,color='red')\n",
    "plt.title('Adopted Users status compared to' + \" \" + 'email'  + \" \" + \"Groups\")\n",
    "ax1.set_xlabel('email')\n",
    "ax1.yaxis.label.set_color('blue')\n",
    "ax1.set_ylabel(\"Total Users\")\n",
    "ax2.set_ylabel(\"Adopted Users Percentage in the Relevant Group\")\n",
    "ax2.yaxis.label.set_color('red')\n",
    "plt.tight_layout()\n",
    "plt.show()\n",
    "\n",
    "#percentage of engaged users by email domain\n",
    "df[['email','adopted_users']].groupby('email')['adopted_users'].mean()"
   ]
  },
  {
   "cell_type": "markdown",
   "metadata": {},
   "source": [
    "In the email varieties, hotmail users are going to most probably to be adopted users but yahoo usersare the least probably. Besides the difference is very small, it might be that these observations are noise."
   ]
  },
  {
   "cell_type": "markdown",
   "metadata": {},
   "source": [
    "# 4. Feature Engineering"
   ]
  },
  {
   "cell_type": "code",
   "execution_count": 22,
   "metadata": {},
   "outputs": [],
   "source": [
    "df=df.set_index('object_id')"
   ]
  },
  {
   "cell_type": "code",
   "execution_count": 23,
   "metadata": {},
   "outputs": [],
   "source": [
    "# re-code datetime columns to be used ind the analysis\n",
    "\n",
    "df['creation_year'] = df.creation_time.dt.year\n",
    "df['creation_month'] = df.creation_time.dt.month\n",
    "df['creation_day'] = df.creation_time.dt.day\n",
    "\n",
    "\n",
    "df['last_session_creation_time'] = df.last_session_creation_time.fillna(\n",
    "    df.last_session_creation_time.mean())\n",
    "\n",
    "df['last_session_year'] = df['last_session_creation_time'].dt.year\n",
    "df['last_session_month'] = df['last_session_creation_time'].dt.month\n",
    "df['last_session_day'] = df['last_session_creation_time'].dt.day\n"
   ]
  },
  {
   "cell_type": "code",
   "execution_count": 24,
   "metadata": {},
   "outputs": [],
   "source": [
    "# Convert date columns to string\n",
    "\n",
    "df['creation_year'] = df['creation_year'].astype('str')\n",
    "df['creation_month'] = df['creation_month'].astype('str')\n",
    "df['creation_day'] = df['creation_day'].astype('str')\n",
    "\n",
    "\n",
    "df['last_session_year'] = df['last_session_year'].astype('str')\n",
    "df['last_session_month'] = df['last_session_month'].astype('str')\n",
    "df['last_session_day'] = df['last_session_day'].astype('str')\n"
   ]
  },
  {
   "cell_type": "code",
   "execution_count": 25,
   "metadata": {
    "scrolled": true
   },
   "outputs": [
    {
     "data": {
      "text/html": [
       "<div>\n",
       "<style scoped>\n",
       "    .dataframe tbody tr th:only-of-type {\n",
       "        vertical-align: middle;\n",
       "    }\n",
       "\n",
       "    .dataframe tbody tr th {\n",
       "        vertical-align: top;\n",
       "    }\n",
       "\n",
       "    .dataframe thead th {\n",
       "        text-align: right;\n",
       "    }\n",
       "</style>\n",
       "<table border=\"1\" class=\"dataframe\">\n",
       "  <thead>\n",
       "    <tr style=\"text-align: right;\">\n",
       "      <th></th>\n",
       "      <th>creation_time</th>\n",
       "      <th>name</th>\n",
       "      <th>email</th>\n",
       "      <th>creation_source</th>\n",
       "      <th>last_session_creation_time</th>\n",
       "      <th>opted_in_to_mailing_list</th>\n",
       "      <th>enabled_for_marketing_drip</th>\n",
       "      <th>org_id</th>\n",
       "      <th>invited_by_user_id</th>\n",
       "      <th>adopted_users</th>\n",
       "      <th>invited</th>\n",
       "      <th>creation_year</th>\n",
       "      <th>creation_month</th>\n",
       "      <th>creation_day</th>\n",
       "      <th>last_session_year</th>\n",
       "      <th>last_session_month</th>\n",
       "      <th>last_session_day</th>\n",
       "    </tr>\n",
       "    <tr>\n",
       "      <th>object_id</th>\n",
       "      <th></th>\n",
       "      <th></th>\n",
       "      <th></th>\n",
       "      <th></th>\n",
       "      <th></th>\n",
       "      <th></th>\n",
       "      <th></th>\n",
       "      <th></th>\n",
       "      <th></th>\n",
       "      <th></th>\n",
       "      <th></th>\n",
       "      <th></th>\n",
       "      <th></th>\n",
       "      <th></th>\n",
       "      <th></th>\n",
       "      <th></th>\n",
       "      <th></th>\n",
       "    </tr>\n",
       "  </thead>\n",
       "  <tbody>\n",
       "    <tr>\n",
       "      <td>1</td>\n",
       "      <td>2014-04-22 03:53:30</td>\n",
       "      <td>Clausen August</td>\n",
       "      <td>yahoo</td>\n",
       "      <td>GUEST_INVITE</td>\n",
       "      <td>2014-04-22 03:53:30</td>\n",
       "      <td>1</td>\n",
       "      <td>0</td>\n",
       "      <td>11</td>\n",
       "      <td>10803.0</td>\n",
       "      <td>0</td>\n",
       "      <td>1</td>\n",
       "      <td>2014</td>\n",
       "      <td>4</td>\n",
       "      <td>22</td>\n",
       "      <td>2014</td>\n",
       "      <td>4</td>\n",
       "      <td>22</td>\n",
       "    </tr>\n",
       "    <tr>\n",
       "      <td>2</td>\n",
       "      <td>2013-11-15 03:45:04</td>\n",
       "      <td>Poole Matthew</td>\n",
       "      <td>gustr</td>\n",
       "      <td>ORG_INVITE</td>\n",
       "      <td>2014-03-31 03:45:04</td>\n",
       "      <td>0</td>\n",
       "      <td>0</td>\n",
       "      <td>1</td>\n",
       "      <td>316.0</td>\n",
       "      <td>1</td>\n",
       "      <td>1</td>\n",
       "      <td>2013</td>\n",
       "      <td>11</td>\n",
       "      <td>15</td>\n",
       "      <td>2014</td>\n",
       "      <td>3</td>\n",
       "      <td>31</td>\n",
       "    </tr>\n",
       "    <tr>\n",
       "      <td>3</td>\n",
       "      <td>2013-03-19 23:14:52</td>\n",
       "      <td>Bottrill Mitchell</td>\n",
       "      <td>gustr</td>\n",
       "      <td>ORG_INVITE</td>\n",
       "      <td>2013-03-19 23:14:52</td>\n",
       "      <td>0</td>\n",
       "      <td>0</td>\n",
       "      <td>94</td>\n",
       "      <td>1525.0</td>\n",
       "      <td>0</td>\n",
       "      <td>1</td>\n",
       "      <td>2013</td>\n",
       "      <td>3</td>\n",
       "      <td>19</td>\n",
       "      <td>2013</td>\n",
       "      <td>3</td>\n",
       "      <td>19</td>\n",
       "    </tr>\n",
       "    <tr>\n",
       "      <td>4</td>\n",
       "      <td>2013-05-21 08:09:28</td>\n",
       "      <td>Clausen Nicklas</td>\n",
       "      <td>yahoo</td>\n",
       "      <td>GUEST_INVITE</td>\n",
       "      <td>2013-05-22 08:09:28</td>\n",
       "      <td>0</td>\n",
       "      <td>0</td>\n",
       "      <td>1</td>\n",
       "      <td>5151.0</td>\n",
       "      <td>0</td>\n",
       "      <td>1</td>\n",
       "      <td>2013</td>\n",
       "      <td>5</td>\n",
       "      <td>21</td>\n",
       "      <td>2013</td>\n",
       "      <td>5</td>\n",
       "      <td>22</td>\n",
       "    </tr>\n",
       "    <tr>\n",
       "      <td>5</td>\n",
       "      <td>2013-01-17 10:14:20</td>\n",
       "      <td>Raw Grace</td>\n",
       "      <td>yahoo</td>\n",
       "      <td>GUEST_INVITE</td>\n",
       "      <td>2013-01-22 10:14:20</td>\n",
       "      <td>0</td>\n",
       "      <td>0</td>\n",
       "      <td>193</td>\n",
       "      <td>5240.0</td>\n",
       "      <td>0</td>\n",
       "      <td>1</td>\n",
       "      <td>2013</td>\n",
       "      <td>1</td>\n",
       "      <td>17</td>\n",
       "      <td>2013</td>\n",
       "      <td>1</td>\n",
       "      <td>22</td>\n",
       "    </tr>\n",
       "  </tbody>\n",
       "</table>\n",
       "</div>"
      ],
      "text/plain": [
       "                creation_time               name  email creation_source  \\\n",
       "object_id                                                                 \n",
       "1         2014-04-22 03:53:30     Clausen August  yahoo    GUEST_INVITE   \n",
       "2         2013-11-15 03:45:04      Poole Matthew  gustr      ORG_INVITE   \n",
       "3         2013-03-19 23:14:52  Bottrill Mitchell  gustr      ORG_INVITE   \n",
       "4         2013-05-21 08:09:28    Clausen Nicklas  yahoo    GUEST_INVITE   \n",
       "5         2013-01-17 10:14:20          Raw Grace  yahoo    GUEST_INVITE   \n",
       "\n",
       "          last_session_creation_time  opted_in_to_mailing_list  \\\n",
       "object_id                                                        \n",
       "1                2014-04-22 03:53:30                         1   \n",
       "2                2014-03-31 03:45:04                         0   \n",
       "3                2013-03-19 23:14:52                         0   \n",
       "4                2013-05-22 08:09:28                         0   \n",
       "5                2013-01-22 10:14:20                         0   \n",
       "\n",
       "           enabled_for_marketing_drip  org_id  invited_by_user_id  \\\n",
       "object_id                                                           \n",
       "1                                   0      11             10803.0   \n",
       "2                                   0       1               316.0   \n",
       "3                                   0      94              1525.0   \n",
       "4                                   0       1              5151.0   \n",
       "5                                   0     193              5240.0   \n",
       "\n",
       "           adopted_users  invited creation_year creation_month creation_day  \\\n",
       "object_id                                                                     \n",
       "1                      0        1          2014              4           22   \n",
       "2                      1        1          2013             11           15   \n",
       "3                      0        1          2013              3           19   \n",
       "4                      0        1          2013              5           21   \n",
       "5                      0        1          2013              1           17   \n",
       "\n",
       "          last_session_year last_session_month last_session_day  \n",
       "object_id                                                        \n",
       "1                      2014                  4               22  \n",
       "2                      2014                  3               31  \n",
       "3                      2013                  3               19  \n",
       "4                      2013                  5               22  \n",
       "5                      2013                  1               22  "
      ]
     },
     "execution_count": 25,
     "metadata": {},
     "output_type": "execute_result"
    }
   ],
   "source": [
    "df.head()"
   ]
  },
  {
   "cell_type": "code",
   "execution_count": 26,
   "metadata": {},
   "outputs": [
    {
     "data": {
      "text/plain": [
       "gmail         3562\n",
       "yahoo         2447\n",
       "jourrapide    1259\n",
       "cuvox         1202\n",
       "other         1186\n",
       "gustr         1179\n",
       "hotmail       1165\n",
       "Name: email, dtype: int64"
      ]
     },
     "execution_count": 26,
     "metadata": {},
     "output_type": "execute_result"
    }
   ],
   "source": [
    "df.email.value_counts()"
   ]
  },
  {
   "cell_type": "code",
   "execution_count": 27,
   "metadata": {},
   "outputs": [],
   "source": [
    "# Drop the following columns \n",
    "\n",
    "df.drop(['name', 'org_id', 'invited_by_user_id', \n",
    "         'creation_time', 'last_session_creation_time'],\n",
    "       axis=1,inplace= True)\n"
   ]
  },
  {
   "cell_type": "code",
   "execution_count": 28,
   "metadata": {},
   "outputs": [],
   "source": [
    "# Convert categorical columns to dummy variables\n",
    "\n",
    "df =pd.get_dummies(df,prefix='is')"
   ]
  },
  {
   "cell_type": "code",
   "execution_count": 29,
   "metadata": {},
   "outputs": [
    {
     "name": "stdout",
     "output_type": "stream",
     "text": [
      "<class 'pandas.core.frame.DataFrame'>\n",
      "Int64Index: 12000 entries, 1 to 12000\n",
      "Columns: 108 entries, opted_in_to_mailing_list to is_9\n",
      "dtypes: int64(4), uint8(104)\n",
      "memory usage: 1.6 MB\n"
     ]
    }
   ],
   "source": [
    "df.info()"
   ]
  },
  {
   "cell_type": "markdown",
   "metadata": {},
   "source": [
    "# 5. Model Building\n",
    "\n",
    "Three different machine learning algorithms will be experimented to predict adopted users and I will use the metric for this classification problem ROC_AUC.\n",
    "\n",
    "1. Logistic Regression\n",
    "2. Support Vector Machine Classifier\n",
    "3. Random Forest Classifier\n",
    "4. Random Forest Classifier with Grid Searh CV\n",
    "5. Gradient Boosting Classifier"
   ]
  },
  {
   "cell_type": "code",
   "execution_count": 30,
   "metadata": {},
   "outputs": [],
   "source": [
    "# Extract features and target\n",
    "\n",
    "X = df.drop('adopted_users', axis=1)\n",
    "y = df['adopted_users']"
   ]
  },
  {
   "cell_type": "code",
   "execution_count": 31,
   "metadata": {},
   "outputs": [],
   "source": [
    "# Train test split\n",
    "X_train, X_test, y_train, y_test = train_test_split(X, y, test_size=0.2, \n",
    "                                                    stratify=y, random_state=42)"
   ]
  },
  {
   "cell_type": "code",
   "execution_count": 32,
   "metadata": {},
   "outputs": [],
   "source": [
    "# I will list and compare the different algorithms.\n",
    "model_evaluation=[]\n",
    "\n",
    "def Evaluation (model_name,model,Xtest=X_test,ytest=y_test):\n",
    "    # Fit model to the trainin data\n",
    "    model.fit(X_train,y_train)\n",
    "    \n",
    "    # Predict the labels\n",
    "    y_pred = model.predict(Xtest)\n",
    "    \n",
    "    '''This function is to produce model statistic'''\n",
    "     # Append model statistic to model_evaluation list\n",
    "    \n",
    "    roc_auc   = roc_auc_score   (ytest,y_pred)\n",
    "    Precision = precision_score (ytest,y_pred)\n",
    "    Accuracy  = accuracy_score  (ytest,y_pred)\n",
    "    Recall    = recall_score    (ytest,y_pred)\n",
    "    F1_score  = f1_score        (ytest,y_pred)\n",
    "    \n",
    "    model_evaluation.append([model_name,Accuracy,roc_auc,Precision,Recall,F1_score])\n",
    "    \n",
    "    print('F1 score: {}'.format(F1_score))\n"
   ]
  },
  {
   "cell_type": "markdown",
   "metadata": {},
   "source": [
    "#### Logistic Regression "
   ]
  },
  {
   "cell_type": "code",
   "execution_count": 33,
   "metadata": {},
   "outputs": [
    {
     "name": "stdout",
     "output_type": "stream",
     "text": [
      "F1 score: 0.8955223880597015\n"
     ]
    }
   ],
   "source": [
    "# Instantiate Pipeline object\n",
    "logreg = Pipeline([('scaler',StandardScaler()),\n",
    "                 ('logit',LogisticRegression())])\n",
    "\n",
    "\n",
    "Evaluation('Logistic Regression',logreg)"
   ]
  },
  {
   "cell_type": "markdown",
   "metadata": {},
   "source": [
    "#### Support Vector Machine"
   ]
  },
  {
   "cell_type": "code",
   "execution_count": 34,
   "metadata": {},
   "outputs": [
    {
     "name": "stdout",
     "output_type": "stream",
     "text": [
      "F1 score: 0.8685121107266436\n"
     ]
    }
   ],
   "source": [
    "# Instantiate Pipeline object\n",
    "\n",
    "svm = Pipeline([('scaler',StandardScaler()),('SVM',SVC())])\n",
    "\n",
    "Evaluation('Support Vector Machine',svm)"
   ]
  },
  {
   "cell_type": "markdown",
   "metadata": {},
   "source": [
    "#### Random Forest Classifier"
   ]
  },
  {
   "cell_type": "code",
   "execution_count": 35,
   "metadata": {},
   "outputs": [
    {
     "name": "stdout",
     "output_type": "stream",
     "text": [
      "F1 score: 0.882943143812709\n"
     ]
    }
   ],
   "source": [
    "# Instantiate Pipeline object\n",
    "\n",
    "rfc = Pipeline([('scaler',StandardScaler()),\n",
    "                ('rfc',RandomForestClassifier(class_weight='balanced'))])\n",
    "                #class_weight='balanced' to adjust for the imbalanced classes\n",
    "\n",
    "\n",
    "\n",
    "Evaluation('Random Forest Classifier',rfc)"
   ]
  },
  {
   "cell_type": "markdown",
   "metadata": {},
   "source": [
    "#### Random Forest Classifier with Grid Searh CV"
   ]
  },
  {
   "cell_type": "code",
   "execution_count": 36,
   "metadata": {},
   "outputs": [
    {
     "name": "stdout",
     "output_type": "stream",
     "text": [
      "F1 score: 0.710353866317169\n"
     ]
    }
   ],
   "source": [
    "# Instantiate Pipeline object\n",
    "\n",
    "rfc_pipe = Pipeline([('selectKBest',SelectKBest()),\n",
    "                     ('rfc', RandomForestClassifier())])\n",
    "\n",
    "# Instantiate param grid object\n",
    "\n",
    "param_grid={'rfc__n_estimators' : range(1,10,1),\n",
    "    'selectKBest__k' : range(2,12,1),\n",
    "    'rfc__class_weight' : ['balanced', 'balanced_subsample'],\n",
    "    'rfc__random_state' : [21]}\n",
    "\n",
    "\n",
    "gsCV = GridSearchCV (rfc_pipe, param_grid, cv=5, scoring='roc_auc')\n",
    "\n",
    "Evaluation('RFC with Grid Search CV',gsCV)"
   ]
  },
  {
   "cell_type": "markdown",
   "metadata": {},
   "source": [
    "#### Gradient Boosting Classifier"
   ]
  },
  {
   "cell_type": "code",
   "execution_count": 37,
   "metadata": {},
   "outputs": [
    {
     "name": "stdout",
     "output_type": "stream",
     "text": [
      "F1 score: 0.8814691151919867\n"
     ]
    }
   ],
   "source": [
    "# instantiate Pipeline object\n",
    "gbc = Pipeline([\n",
    "        ('scaler', StandardScaler()),\n",
    "        ('gbc', GradientBoostingClassifier())\n",
    "    ])\n",
    "\n",
    "Evaluation ('Gradient Boosting Classifier',gbc)"
   ]
  },
  {
   "cell_type": "code",
   "execution_count": 38,
   "metadata": {},
   "outputs": [
    {
     "data": {
      "text/html": [
       "<div>\n",
       "<style scoped>\n",
       "    .dataframe tbody tr th:only-of-type {\n",
       "        vertical-align: middle;\n",
       "    }\n",
       "\n",
       "    .dataframe tbody tr th {\n",
       "        vertical-align: top;\n",
       "    }\n",
       "\n",
       "    .dataframe thead th {\n",
       "        text-align: right;\n",
       "    }\n",
       "</style>\n",
       "<table border=\"1\" class=\"dataframe\">\n",
       "  <thead>\n",
       "    <tr style=\"text-align: right;\">\n",
       "      <th></th>\n",
       "      <th>Accuracy</th>\n",
       "      <th>ROC_AUC</th>\n",
       "      <th>Precision</th>\n",
       "      <th>Recall</th>\n",
       "      <th>F1</th>\n",
       "    </tr>\n",
       "    <tr>\n",
       "      <th>Model</th>\n",
       "      <th></th>\n",
       "      <th></th>\n",
       "      <th></th>\n",
       "      <th></th>\n",
       "      <th></th>\n",
       "    </tr>\n",
       "  </thead>\n",
       "  <tbody>\n",
       "    <tr>\n",
       "      <td>Logistic Regression</td>\n",
       "      <td>0.973750</td>\n",
       "      <td>0.918750</td>\n",
       "      <td>0.954064</td>\n",
       "      <td>0.843750</td>\n",
       "      <td>0.895522</td>\n",
       "    </tr>\n",
       "    <tr>\n",
       "      <td>Random Forest Classifier</td>\n",
       "      <td>0.970833</td>\n",
       "      <td>0.909135</td>\n",
       "      <td>0.949640</td>\n",
       "      <td>0.825000</td>\n",
       "      <td>0.882943</td>\n",
       "    </tr>\n",
       "    <tr>\n",
       "      <td>Gradient Boosting Classifier</td>\n",
       "      <td>0.970417</td>\n",
       "      <td>0.908894</td>\n",
       "      <td>0.946237</td>\n",
       "      <td>0.825000</td>\n",
       "      <td>0.881469</td>\n",
       "    </tr>\n",
       "    <tr>\n",
       "      <td>Support Vector Machine</td>\n",
       "      <td>0.968333</td>\n",
       "      <td>0.890505</td>\n",
       "      <td>0.972868</td>\n",
       "      <td>0.784375</td>\n",
       "      <td>0.868512</td>\n",
       "    </tr>\n",
       "    <tr>\n",
       "      <td>RFC with Grid Search CV</td>\n",
       "      <td>0.907917</td>\n",
       "      <td>0.882091</td>\n",
       "      <td>0.611738</td>\n",
       "      <td>0.846875</td>\n",
       "      <td>0.710354</td>\n",
       "    </tr>\n",
       "  </tbody>\n",
       "</table>\n",
       "</div>"
      ],
      "text/plain": [
       "                              Accuracy   ROC_AUC  Precision    Recall  \\\n",
       "Model                                                                   \n",
       "Logistic Regression           0.973750  0.918750   0.954064  0.843750   \n",
       "Random Forest Classifier      0.970833  0.909135   0.949640  0.825000   \n",
       "Gradient Boosting Classifier  0.970417  0.908894   0.946237  0.825000   \n",
       "Support Vector Machine        0.968333  0.890505   0.972868  0.784375   \n",
       "RFC with Grid Search CV       0.907917  0.882091   0.611738  0.846875   \n",
       "\n",
       "                                    F1  \n",
       "Model                                   \n",
       "Logistic Regression           0.895522  \n",
       "Random Forest Classifier      0.882943  \n",
       "Gradient Boosting Classifier  0.881469  \n",
       "Support Vector Machine        0.868512  \n",
       "RFC with Grid Search CV       0.710354  "
      ]
     },
     "execution_count": 38,
     "metadata": {},
     "output_type": "execute_result"
    }
   ],
   "source": [
    "# prepare a dataframe using all the models with their performance measures\n",
    "df_eval=pd.DataFrame(model_evaluation,columns=['Model', 'Accuracy', 'ROC_AUC', 'Precision', 'Recall', 'F1'])\n",
    "df_eval.sort_values(['ROC_AUC'],ascending=False,inplace=True)\n",
    "df_eval=df_eval.set_index('Model')\n",
    "df_eval"
   ]
  },
  {
   "cell_type": "markdown",
   "metadata": {},
   "source": [
    "## Feature Importance\n",
    "\n",
    "Whatever coefficients the classifier has assigned to the features will indicate which ones it found more useful in making the correct classifications."
   ]
  },
  {
   "cell_type": "code",
   "execution_count": 47,
   "metadata": {},
   "outputs": [
    {
     "data": {
      "text/html": [
       "<div>\n",
       "<style scoped>\n",
       "    .dataframe tbody tr th:only-of-type {\n",
       "        vertical-align: middle;\n",
       "    }\n",
       "\n",
       "    .dataframe tbody tr th {\n",
       "        vertical-align: top;\n",
       "    }\n",
       "\n",
       "    .dataframe thead th {\n",
       "        text-align: right;\n",
       "    }\n",
       "</style>\n",
       "<table border=\"1\" class=\"dataframe\">\n",
       "  <thead>\n",
       "    <tr style=\"text-align: right;\">\n",
       "      <th></th>\n",
       "      <th>Feature</th>\n",
       "      <th>Importance</th>\n",
       "    </tr>\n",
       "  </thead>\n",
       "  <tbody>\n",
       "    <tr>\n",
       "      <td>0</td>\n",
       "      <td>opted_in_to_mailing_list</td>\n",
       "      <td>0.006987</td>\n",
       "    </tr>\n",
       "    <tr>\n",
       "      <td>4</td>\n",
       "      <td>is_gmail</td>\n",
       "      <td>0.006784</td>\n",
       "    </tr>\n",
       "    <tr>\n",
       "      <td>11</td>\n",
       "      <td>is_ORG_INVITE</td>\n",
       "      <td>0.006047</td>\n",
       "    </tr>\n",
       "    <tr>\n",
       "      <td>10</td>\n",
       "      <td>is_GUEST_INVITE</td>\n",
       "      <td>0.005798</td>\n",
       "    </tr>\n",
       "    <tr>\n",
       "      <td>2</td>\n",
       "      <td>invited</td>\n",
       "      <td>0.005545</td>\n",
       "    </tr>\n",
       "    <tr>\n",
       "      <td>1</td>\n",
       "      <td>enabled_for_marketing_drip</td>\n",
       "      <td>0.005072</td>\n",
       "    </tr>\n",
       "    <tr>\n",
       "      <td>9</td>\n",
       "      <td>is_yahoo</td>\n",
       "      <td>0.004914</td>\n",
       "    </tr>\n",
       "    <tr>\n",
       "      <td>6</td>\n",
       "      <td>is_hotmail</td>\n",
       "      <td>0.004806</td>\n",
       "    </tr>\n",
       "    <tr>\n",
       "      <td>13</td>\n",
       "      <td>is_SIGNUP</td>\n",
       "      <td>0.004626</td>\n",
       "    </tr>\n",
       "    <tr>\n",
       "      <td>12</td>\n",
       "      <td>is_PERSONAL_PROJECTS</td>\n",
       "      <td>0.004426</td>\n",
       "    </tr>\n",
       "    <tr>\n",
       "      <td>14</td>\n",
       "      <td>is_SIGNUP_GOOGLE_AUTH</td>\n",
       "      <td>0.004110</td>\n",
       "    </tr>\n",
       "    <tr>\n",
       "      <td>7</td>\n",
       "      <td>is_jourrapide</td>\n",
       "      <td>0.003700</td>\n",
       "    </tr>\n",
       "    <tr>\n",
       "      <td>5</td>\n",
       "      <td>is_gustr</td>\n",
       "      <td>0.003505</td>\n",
       "    </tr>\n",
       "    <tr>\n",
       "      <td>3</td>\n",
       "      <td>is_cuvox</td>\n",
       "      <td>0.003277</td>\n",
       "    </tr>\n",
       "    <tr>\n",
       "      <td>8</td>\n",
       "      <td>is_other</td>\n",
       "      <td>0.003198</td>\n",
       "    </tr>\n",
       "  </tbody>\n",
       "</table>\n",
       "</div>"
      ],
      "text/plain": [
       "                       Feature  Importance\n",
       "0     opted_in_to_mailing_list    0.006987\n",
       "4                     is_gmail    0.006784\n",
       "11               is_ORG_INVITE    0.006047\n",
       "10             is_GUEST_INVITE    0.005798\n",
       "2                      invited    0.005545\n",
       "1   enabled_for_marketing_drip    0.005072\n",
       "9                     is_yahoo    0.004914\n",
       "6                   is_hotmail    0.004806\n",
       "13                   is_SIGNUP    0.004626\n",
       "12        is_PERSONAL_PROJECTS    0.004426\n",
       "14       is_SIGNUP_GOOGLE_AUTH    0.004110\n",
       "7                is_jourrapide    0.003700\n",
       "5                     is_gustr    0.003505\n",
       "3                     is_cuvox    0.003277\n",
       "8                     is_other    0.003198"
      ]
     },
     "execution_count": 47,
     "metadata": {},
     "output_type": "execute_result"
    },
    {
     "data": {
      "image/png": "[encoded data removed]",
      "text/plain": [
       "<Figure size 432x288 with 1 Axes>"
      ]
     },
     "metadata": {
      "needs_background": "light"
     },
     "output_type": "display_data"
    }
   ],
   "source": [
    "# feature importance ranking\n",
    "feat = X_train.columns\n",
    "imp = rfc.named_steps['rfc'].feature_importances_\n",
    "df_gb = pd.DataFrame({'Feature': feat, 'Importance': imp})[:15]\n",
    "df_gb = df_gb.sort_values('Importance', ascending=False)\n",
    "sns.barplot(x='Importance', y='Feature', data=df_gb, palette='colorblind');\n",
    "df_gb.head(15)"
   ]
  },
  {
   "cell_type": "markdown",
   "metadata": {},
   "source": [
    ">The most important feature to predict user adoption is 'opted_in_mailing_list."
   ]
  },
  {
   "cell_type": "markdown",
   "metadata": {},
   "source": [
    "# Conclusion"
   ]
  },
  {
   "cell_type": "markdown",
   "metadata": {},
   "source": [
    "From the analysis and the predictive modeling that we have performed above, the results can be summarized as follows:\n",
    "\n",
    "87% of userbase are non adopted users. This evidently shows that there is a lot that can be done to decrease this ratio relative to the number of adopted users.\n",
    "\n",
    "The Logistic Regression  Classifier algorithm performs the best in predicting the adopted users with an accuracy score of 97%. It also performs better in f1 score and roc_auc performance measures compared to the other models.\n",
    "\n",
    "As shown on the feature importance ranking above, 'opted_in_to_mailing_list' and 'is_gmail' features are the most important features when it comes to predicting the adopted users."
   ]
  }
 ],
 "metadata": {
  "kernelspec": {
   "display_name": "Python 3",
   "language": "python",
   "name": "python3"
  },
  "language_info": {
   "codemirror_mode": {
    "name": "ipython",
    "version": 3
   },
   "file_extension": ".py",
   "mimetype": "text/x-python",
   "name": "python",
   "nbconvert_exporter": "python",
   "pygments_lexer": "ipython3",
   "version": "3.7.4"
  },
  "toc": {
   "base_numbering": 1,
   "nav_menu": {},
   "number_sections": false,
   "sideBar": true,
   "skip_h1_title": false,
   "title_cell": "Table of Contents",
   "title_sidebar": "Contents",
   "toc_cell": true,
   "toc_position": {},
   "toc_section_display": true,
   "toc_window_display": false
  }
 },
 "nbformat": 4,
 "nbformat_minor": 2
}
