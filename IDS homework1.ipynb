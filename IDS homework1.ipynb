{
 "cells": [
  {
   "cell_type": "code",
   "execution_count": 367,
   "metadata": {},
   "outputs": [],
   "source": [
    "import pandas as pd\n",
    "import numpy as np"
   ]
  },
  {
   "cell_type": "code",
   "execution_count": 639,
   "metadata": {},
   "outputs": [],
   "source": [
    "df= pd.read_csv('IDS.csv')"
   ]
  },
  {
   "cell_type": "code",
   "execution_count": 372,
   "metadata": {},
   "outputs": [],
   "source": [
    "df.dropna(inplace=True)"
   ]
  },
  {
   "cell_type": "code",
   "execution_count": 375,
   "metadata": {},
   "outputs": [],
   "source": [
    "#df[df.Height.str.contains('cm')]['Height']\n",
    "#s.str.strip('123.!? \\n\\t')\n",
    "x=df.loc[:,'Height'].str.strip(\" cm\")\n",
    "df.loc[:,'Height']=x"
   ]
  },
  {
   "cell_type": "code",
   "execution_count": 387,
   "metadata": {},
   "outputs": [],
   "source": [
    "#df.Weight.str.contains('kg')\n",
    "#df[df.Weight.str.contains('kg')]['Weight']"
   ]
  },
  {
   "cell_type": "code",
   "execution_count": 770,
   "metadata": {},
   "outputs": [],
   "source": [
    "y=df.Weight.str.strip('kg kgs')\n",
    "df.loc[:,'Weight']=y\n",
    "df[df.Weight.str.contains('kg')]['Weight']\n",
    "xx=df.Weight.str.strip('😑')\n",
    "df.loc[:,'Weight']=xx"
   ]
  },
  {
   "cell_type": "code",
   "execution_count": 601,
   "metadata": {},
   "outputs": [
    {
     "name": "stdout",
     "output_type": "stream",
     "text": [
      "[\"5'3\", \"5'8\", \"5'8\", \"5'2\"]\n"
     ]
    }
   ],
   "source": [
    "yy=(df[df.Height.str.contains(\"'\")]['Height'])\n",
    "print(list(yy))\n",
    "\n",
    "x=df[df.Height.str.contains(\"'\")]['Height'].str.split(\"'\")\n",
    "\n",
    "son=[]\n",
    "for i,s in x:\n",
    "    son.append(int(i)*30.48+int(s)*2.54)\n",
    "print(son)\n",
    "\n",
    "df.replace(list(yy),list(son), inplace=True)\n",
    "\n",
    "print(df)"
   ]
  },
  {
   "cell_type": "code",
   "execution_count": 773,
   "metadata": {},
   "outputs": [
    {
     "name": "stdout",
     "output_type": "stream",
     "text": [
      "Series([], Name: Sleep_Duration, dtype: object)\n"
     ]
    }
   ],
   "source": [
    "df[df['Sleep_Duration'].str.contains('hour')]['Sleep_Duration']\n",
    "\n",
    "b=df['Sleep_Duration'].str.strip('Around hoursnd ahrs May be nano sec :00')\n",
    "\n",
    "df.loc[:,['Sleep_Duration']]=b\n",
    "\n",
    "print(df[df['Sleep_Duration'].str.contains('hour')]['Sleep_Duration'])"
   ]
  },
  {
   "cell_type": "code",
   "execution_count": 794,
   "metadata": {},
   "outputs": [
    {
     "name": "stdout",
     "output_type": "stream",
     "text": [
      "58     5 and a half\n",
      "86     7 and a half\n",
      "175     5 nd a half\n",
      "Name: Sleep_Duration, dtype: object\n"
     ]
    }
   ],
   "source": [
    "#????????\n",
    "df[df['Sleep_Duration'].str.contains(' and a half')]['Sleep_Duration'].str.replace(' and','.5',regex=True)\n",
    "\n",
    "print(df[df['Sleep_Duration'].str.contains('half')]['Sleep_Duration'])"
   ]
  },
  {
   "cell_type": "code",
   "execution_count": 795,
   "metadata": {},
   "outputs": [
    {
     "data": {
      "text/plain": [
       "\"df.Sleep_Duration.replace(' and a half','.5')\\nprint(df[df['Sleep_Duration'].str.contains('and')]['Sleep_Duration'])\""
      ]
     },
     "execution_count": 795,
     "metadata": {},
     "output_type": "execute_result"
    }
   ],
   "source": [
    "'''df.Sleep_Duration.replace(' and a half','.5')\n",
    "print(df[df['Sleep_Duration'].str.contains('and')]['Sleep_Duration'])'''"
   ]
  },
  {
   "cell_type": "code",
   "execution_count": 797,
   "metadata": {},
   "outputs": [],
   "source": [
    "#df[df.Sleep_Duration.str.contains('-')]['Sleep_Duration']"
   ]
  },
  {
   "cell_type": "code",
   "execution_count": 798,
   "metadata": {},
   "outputs": [
    {
     "data": {
      "text/plain": [
       "\"sp=df.Sleep_Duration.replace('-','.')\\n\\nfor i in sp:\\n    print (i)\""
      ]
     },
     "execution_count": 798,
     "metadata": {},
     "output_type": "execute_result"
    }
   ],
   "source": [
    "\n",
    "'''sp=df.Sleep_Duration.replace('-','.')\n",
    "\n",
    "for i in sp:\n",
    "    print (i)'''"
   ]
  },
  {
   "cell_type": "code",
   "execution_count": 856,
   "metadata": {},
   "outputs": [
    {
     "name": "stdout",
     "output_type": "stream",
     "text": [
      "2\n",
      "3\n",
      "5\n",
      "7\n",
      "11\n",
      "13\n",
      "17\n",
      "19\n",
      "23\n",
      "29\n",
      "31\n",
      "37\n",
      "41\n",
      "43\n",
      "47\n",
      "53\n",
      "59\n",
      "61\n",
      "67\n",
      "71\n",
      "73\n",
      "79\n",
      "83\n",
      "89\n",
      "97\n"
     ]
    }
   ],
   "source": [
    "for x in range(2, 101): \n",
    "    if all(x % y != 0 for y in range(2, x)):\n",
    "        print(x)\n"
   ]
  },
  {
   "cell_type": "code",
   "execution_count": 1,
   "metadata": {},
   "outputs": [
    {
     "data": {
      "text/plain": [
       "[2,\n",
       " 3,\n",
       " 5,\n",
       " 7,\n",
       " 11,\n",
       " 13,\n",
       " 17,\n",
       " 19,\n",
       " 23,\n",
       " 29,\n",
       " 31,\n",
       " 37,\n",
       " 41,\n",
       " 43,\n",
       " 47,\n",
       " 53,\n",
       " 59,\n",
       " 61,\n",
       " 67,\n",
       " 71,\n",
       " 73,\n",
       " 79,\n",
       " 83,\n",
       " 89,\n",
       " 97]"
      ]
     },
     "execution_count": 1,
     "metadata": {},
     "output_type": "execute_result"
    }
   ],
   "source": [
    "p_num2=[num for num in range(2,101)\n",
    "            if all(num%i!=0 for i in range(2,num))]\n",
    "p_num2"
   ]
  },
  {
   "cell_type": "code",
   "execution_count": null,
   "metadata": {},
   "outputs": [],
   "source": []
  }
 ],
 "metadata": {
  "kernelspec": {
   "display_name": "Python 3",
   "language": "python",
   "name": "python3"
  },
  "language_info": {
   "codemirror_mode": {
    "name": "ipython",
    "version": 3
   },
   "file_extension": ".py",
   "mimetype": "text/x-python",
   "name": "python",
   "nbconvert_exporter": "python",
   "pygments_lexer": "ipython3",
   "version": "3.7.3"
  }
 },
 "nbformat": 4,
 "nbformat_minor": 2
}
